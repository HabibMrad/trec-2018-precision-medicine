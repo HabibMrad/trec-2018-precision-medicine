{
 "cells": [
  {
   "cell_type": "markdown",
   "metadata": {},
   "source": [
    "# TREC 2018 Precision Medicine"
   ]
  },
  {
   "cell_type": "code",
   "execution_count": 12,
   "metadata": {},
   "outputs": [],
   "source": [
    "import json\n",
    "from json2html import *\n",
    "from IPython.display import HTML\n",
    "import pandas\n",
    "\n",
    "import os, sys\n",
    "nb_dir = os.path.split(os.getcwd())[0]\n",
    "if nb_dir not in sys.path:\n",
    "    sys.path.append(nb_dir)\n",
    "from trec_utils import utils, running, evaluation"
   ]
  },
  {
   "cell_type": "raw",
   "metadata": {},
   "source": [
    "Load and show configuration"
   ]
  },
  {
   "cell_type": "code",
   "execution_count": 13,
   "metadata": {},
   "outputs": [],
   "source": [
    "config = utils.load_config()"
   ]
  },
  {
   "cell_type": "code",
   "execution_count": 14,
   "metadata": {},
   "outputs": [],
   "source": [
    "topics_all = utils.get_topics('./topics/topics2017.xml')\n",
    "qrels_all = utils.get_qrels('./gold-standard/trials.2017.qrels')\n",
    "TOPIC = 2"
   ]
  },
  {
   "cell_type": "code",
   "execution_count": 15,
   "metadata": {},
   "outputs": [
    {
     "data": {
      "text/html": [
       "<div>\n",
       "<style scoped>\n",
       "    .dataframe tbody tr th:only-of-type {\n",
       "        vertical-align: middle;\n",
       "    }\n",
       "\n",
       "    .dataframe tbody tr th {\n",
       "        vertical-align: top;\n",
       "    }\n",
       "\n",
       "    .dataframe thead th {\n",
       "        text-align: right;\n",
       "    }\n",
       "</style>\n",
       "<table border=\"1\" class=\"dataframe\">\n",
       "  <thead>\n",
       "    <tr style=\"text-align: right;\">\n",
       "      <th></th>\n",
       "      <th>topic</th>\n",
       "      <th>disease</th>\n",
       "      <th>gene</th>\n",
       "      <th>gene1</th>\n",
       "      <th>gene2</th>\n",
       "      <th>gene3</th>\n",
       "      <th>sex</th>\n",
       "      <th>age</th>\n",
       "      <th>age_group</th>\n",
       "    </tr>\n",
       "  </thead>\n",
       "  <tbody>\n",
       "    <tr>\n",
       "      <th>2</th>\n",
       "      <td>2</td>\n",
       "      <td>Colon cancer</td>\n",
       "      <td>KRAS (G13D), BRAF (V600E)</td>\n",
       "      <td>KRAS (G13D)</td>\n",
       "      <td>BRAF (V600E)</td>\n",
       "      <td></td>\n",
       "      <td>male</td>\n",
       "      <td>52</td>\n",
       "      <td>aged</td>\n",
       "    </tr>\n",
       "  </tbody>\n",
       "</table>\n",
       "</div>"
      ],
      "text/plain": [
       "   topic       disease                       gene        gene1          gene2  \\\n",
       "2      2  Colon cancer  KRAS (G13D), BRAF (V600E)  KRAS (G13D)   BRAF (V600E)   \n",
       "\n",
       "  gene3   sex age age_group  \n",
       "2        male  52      aged  "
      ]
     },
     "execution_count": 15,
     "metadata": {},
     "output_type": "execute_result"
    }
   ],
   "source": [
    "topic = topics_all[(topics_all.topic==TOPIC)]\n",
    "qrels = utils.qrels_of_topics(qrels_all, topic)\n",
    "topic"
   ]
  },
  {
   "cell_type": "code",
   "execution_count": 16,
   "metadata": {},
   "outputs": [
    {
     "name": "stdout",
     "output_type": "stream",
     "text": [
      "RUN: DEFAULT_RUN TOPICS: 1\n",
      "RUN: DEFAULT_RUN TOPICS: 1\n"
     ]
    },
    {
     "data": {
      "text/plain": [
       "{'P_10': 0.0, 'Rprec': 0.0, 'ndcg': 0.348, 'recall_1000': 0.8235}"
      ]
     },
     "execution_count": 16,
     "metadata": {},
     "output_type": "execute_result"
    }
   ],
   "source": [
    "run_params = {\n",
    "    'run_id':'DEFAULT_RUN',\n",
    "    'query_template':'tests/baseline-ct.json',\n",
    "    'disease_tie_breaker':0.4,\n",
    "    'disease_multi_match_type':'best_fields',\n",
    "    'disease_boost':1.5,\n",
    "    'gene_tie_breaker':0.5,\n",
    "    'gene_multi_match_type':'cross_fields',\n",
    "    'gene_boost':1\n",
    "}\n",
    "\n",
    "run, params = running.run(topic, 'TRIALS', run_params)\n",
    "\n",
    "results, aggregated = evaluation.evaluate(qrels[(qrels.relev.isin([2]))], run)\n",
    "run_this, params = running.run(topic, 'TRIALS', params)\n",
    "aggregated"
   ]
  },
  {
   "cell_type": "code",
   "execution_count": 17,
   "metadata": {},
   "outputs": [
    {
     "ename": "TypeError",
     "evalue": "run() missing 2 required positional arguments: 'abstracts_or_trials' and 'run_params'",
     "output_type": "error",
     "traceback": [
      "\u001b[0;31m---------------------------------------------------------------------------\u001b[0m",
      "\u001b[0;31mTypeError\u001b[0m                                 Traceback (most recent call last)",
      "\u001b[0;32m<ipython-input-17-57310ad1ac4b>\u001b[0m in \u001b[0;36m<module>\u001b[0;34m()\u001b[0m\n\u001b[0;32m----> 1\u001b[0;31m \u001b[0mrun\u001b[0m\u001b[0;34m,\u001b[0m \u001b[0mparams\u001b[0m \u001b[0;34m=\u001b[0m \u001b[0mrunning\u001b[0m\u001b[0;34m.\u001b[0m\u001b[0mrun\u001b[0m\u001b[0;34m(\u001b[0m\u001b[0mtopic\u001b[0m\u001b[0;34m)\u001b[0m\u001b[0;34m\u001b[0m\u001b[0m\n\u001b[0m\u001b[1;32m      2\u001b[0m \u001b[0mparams\u001b[0m\u001b[0;34m[\u001b[0m\u001b[0;34m'query_template'\u001b[0m\u001b[0;34m]\u001b[0m \u001b[0;34m=\u001b[0m \u001b[0;34m'topic-optimized2.json'\u001b[0m\u001b[0;34m\u001b[0m\u001b[0m\n\u001b[1;32m      3\u001b[0m \u001b[0mresults\u001b[0m\u001b[0;34m,\u001b[0m \u001b[0maggregated\u001b[0m \u001b[0;34m=\u001b[0m \u001b[0mevaluation\u001b[0m\u001b[0;34m.\u001b[0m\u001b[0mevaluate\u001b[0m\u001b[0;34m(\u001b[0m\u001b[0mqrels\u001b[0m\u001b[0;34m[\u001b[0m\u001b[0;34m(\u001b[0m\u001b[0mqrels\u001b[0m\u001b[0;34m.\u001b[0m\u001b[0mrelev\u001b[0m\u001b[0;34m.\u001b[0m\u001b[0misin\u001b[0m\u001b[0;34m(\u001b[0m\u001b[0;34m[\u001b[0m\u001b[0;36m2\u001b[0m\u001b[0;34m]\u001b[0m\u001b[0;34m)\u001b[0m\u001b[0;34m)\u001b[0m\u001b[0;34m]\u001b[0m\u001b[0;34m,\u001b[0m \u001b[0mrun\u001b[0m\u001b[0;34m)\u001b[0m\u001b[0;34m\u001b[0m\u001b[0m\n\u001b[1;32m      4\u001b[0m \u001b[0mrun\u001b[0m\u001b[0;34m,\u001b[0m \u001b[0mparams\u001b[0m \u001b[0;34m=\u001b[0m \u001b[0mrunning\u001b[0m\u001b[0;34m.\u001b[0m\u001b[0mrun\u001b[0m\u001b[0;34m(\u001b[0m\u001b[0mtopic\u001b[0m\u001b[0;34m,\u001b[0m \u001b[0mparams\u001b[0m\u001b[0;34m)\u001b[0m\u001b[0;34m\u001b[0m\u001b[0m\n\u001b[1;32m      5\u001b[0m \u001b[0maggregated\u001b[0m\u001b[0;34m\u001b[0m\u001b[0m\n",
      "\u001b[0;31mTypeError\u001b[0m: run() missing 2 required positional arguments: 'abstracts_or_trials' and 'run_params'"
     ]
    }
   ],
   "source": [
    "run, params = running.run(topic)\n",
    "params['query_template'] = 'topic-optimized2.json'\n",
    "results, aggregated = evaluation.evaluate(qrels[(qrels.relev.isin([2]))], run)\n",
    "run, params = running.run(topic, params)\n",
    "aggregated"
   ]
  },
  {
   "cell_type": "markdown",
   "metadata": {},
   "source": [
    "Check relevant documents missed and why (for topic 2 for example)"
   ]
  },
  {
   "cell_type": "code",
   "execution_count": 7,
   "metadata": {},
   "outputs": [
    {
     "data": {
      "text/plain": [
       "{'15735008',\n",
       " '16448675',\n",
       " '17293392',\n",
       " '17517901',\n",
       " '18097554',\n",
       " '18098337',\n",
       " '19959686',\n",
       " '21457162',\n",
       " '21681432',\n",
       " '22210186',\n",
       " '22972628',\n",
       " '23071293',\n",
       " '23112547',\n",
       " '23446022',\n",
       " '23462926',\n",
       " '23763264',\n",
       " '24025253',\n",
       " '24244575',\n",
       " '24522186',\n",
       " '24805134',\n",
       " '25073438',\n",
       " '25386108',\n",
       " '25469291',\n",
       " '25696788',\n",
       " '26359417',\n",
       " '26371285',\n",
       " '26623049',\n",
       " '27099668',\n",
       " 'AACR_2014-2009',\n",
       " 'AACR_2017-3066',\n",
       " 'AACR_2017-4639',\n",
       " 'AACR_2017-5162',\n",
       " 'ASCO_32653-65'}"
      ]
     },
     "execution_count": 7,
     "metadata": {},
     "output_type": "execute_result"
    }
   ],
   "source": [
    "run_set = set(run[(run.TOPIC_NO==TOPIC)].ID)\n",
    "qrels_set = set(qrels[(qrels.relev.isin([2]))].doc_id)\n",
    "qrels_set.difference(run_set)"
   ]
  },
  {
   "cell_type": "code",
   "execution_count": null,
   "metadata": {},
   "outputs": [],
   "source": []
  },
  {
   "cell_type": "code",
   "execution_count": 5,
   "metadata": {},
   "outputs": [
    {
     "name": "stdout",
     "output_type": "stream",
     "text": [
      "RUN: ONE_RUN TOPICS: 30\n"
     ]
    },
    {
     "data": {
      "text/plain": [
       "{'P_10': 0.4867, 'Rprec': 0.2629, 'ndcg': 0.5281, 'recall_1000': 0.6076}"
      ]
     },
     "execution_count": 5,
     "metadata": {},
     "output_type": "execute_result"
    }
   ],
   "source": [
    "this_run_params = {\n",
    "    'run_id':'ONE_RUN',\n",
    "    'query_template':'variable/baseline_sex_age.json',\n",
    "    'disease_tie_breaker':1,\n",
    "    'disease_multi_match_type':'best_fields',\n",
    "    'disease_boost':1,\n",
    "    'gene_tie_breaker':0.2,\n",
    "    'gene_multi_match_type':'best_fields',\n",
    "    'gene_boost':2\n",
    "}\n",
    "\n",
    "full_run_df, run_params = running.run(topics_all, this_run_params)\n",
    "results, aggregated = evaluation.evaluate(qrels_all, full_run_df)\n",
    "aggregated\n",
    "# Only MeSH, best fields: {'P_10': 0.5167, 'Rprec': 0.2785, 'ndcg': 0.5383, 'recall_1000': 0.6148}\n",
    "# Only MeSH, cross fields: {'P_10': 0.5067, 'Rprec': 0.2811, 'ndcg': 0.5413, 'recall_1000': 0.6159}\n",
    "# Only MeSH, cross, best: {'P_10': 0.52, 'Rprec': 0.2814, 'ndcg': 0.5378, 'recall_1000': 0.6151}\n",
    "# Only MeSH, best, cross: {'P_10': 0.52, 'Rprec': 0.2787, 'ndcg': 0.5417, 'recall_1000': 0.6173} ***** best ndcg, best P_10"
   ]
  },
  {
   "cell_type": "code",
   "execution_count": 5,
   "metadata": {},
   "outputs": [
    {
     "name": "stdout",
     "output_type": "stream",
     "text": [
      "RUN: DEFAULT_RUN TOPICS: 30\n"
     ]
    },
    {
     "data": {
      "text/plain": [
       "{'P_10': 0.48, 'Rprec': 0.2847, 'ndcg': 0.5338, 'recall_1000': 0.6139}"
      ]
     },
     "execution_count": 5,
     "metadata": {},
     "output_type": "execute_result"
    }
   ],
   "source": [
    "run_params = running.get_default_run_params()\n",
    "run_params['query_template'] = 'fixed/baseline.json'\n",
    "full_run_df, run_params = running.run(topics_all)\n",
    "results, aggregated = evaluation.evaluate(qrels_all, full_run_df)\n",
    "aggregated\n",
    "# Only MeSH, best fields: {'P_10': 0.5167, 'Rprec': 0.2785, 'ndcg': 0.5383, 'recall_1000': 0.6148}\n",
    "# Only MeSH, cross fields: {'P_10': 0.5067, 'Rprec': 0.2811, 'ndcg': 0.5413, 'recall_1000': 0.6159}\n",
    "# Only MeSH, cross, best: {'P_10': 0.52, 'Rprec': 0.2814, 'ndcg': 0.5378, 'recall_1000': 0.6151}\n",
    "# Only MeSH, best, cross: {'P_10': 0.52, 'Rprec': 0.2787, 'ndcg': 0.5417, 'recall_1000': 0.6173} ***** best ndcg, best P_10"
   ]
  },
  {
   "cell_type": "code",
   "execution_count": null,
   "metadata": {},
   "outputs": [],
   "source": []
  }
 ],
 "metadata": {
  "kernelspec": {
   "display_name": "Python 3",
   "language": "python",
   "name": "python3"
  },
  "language_info": {
   "codemirror_mode": {
    "name": "ipython",
    "version": 3
   },
   "file_extension": ".py",
   "mimetype": "text/x-python",
   "name": "python",
   "nbconvert_exporter": "python",
   "pygments_lexer": "ipython3",
   "version": "3.5.2"
  }
 },
 "nbformat": 4,
 "nbformat_minor": 2
}
