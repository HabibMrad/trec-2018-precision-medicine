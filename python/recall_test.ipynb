{
 "cells": [
  {
   "cell_type": "markdown",
   "metadata": {},
   "source": [
    "# TREC 2018 Precision Medicine"
   ]
  },
  {
   "cell_type": "code",
   "execution_count": 1,
   "metadata": {},
   "outputs": [],
   "source": [
    "import json\n",
    "from json2html import *\n",
    "from IPython.display import HTML\n",
    "import eval\n",
    "import pandas"
   ]
  },
  {
   "cell_type": "raw",
   "metadata": {},
   "source": [
    "Load and show configuration"
   ]
  },
  {
   "cell_type": "code",
   "execution_count": 2,
   "metadata": {},
   "outputs": [],
   "source": [
    "with open('config.json', 'r') as f:\n",
    "    config = json.load(f)\n",
    "#HTML(json2html.convert(json = config))"
   ]
  },
  {
   "cell_type": "code",
   "execution_count": 3,
   "metadata": {},
   "outputs": [],
   "source": [
    "topics_all = eval.get_topics('./topics/topics2017.xml')\n",
    "qrels_all = eval.get_qrels('./gold-standard/abstracts.2017.qrels')"
   ]
  },
  {
   "cell_type": "code",
   "execution_count": 4,
   "metadata": {},
   "outputs": [],
   "source": [
    "topics = topics_all[(topics_all.topic==2)]\n",
    "qrels = eval.qrels_of_topics(qrels_all, topics)"
   ]
  },
  {
   "cell_type": "code",
   "execution_count": 5,
   "metadata": {},
   "outputs": [],
   "source": [
    "qrels_relev = qrels[(qrels.relev==2)]"
   ]
  },
  {
   "cell_type": "code",
   "execution_count": 6,
   "metadata": {},
   "outputs": [
    {
     "name": "stdout",
     "output_type": "stream",
     "text": [
      "RUN: FIXME TOPICS: 1 {'query_template': 'baseline.json', 'disease_tie_breaker': 0.5, 'disease_boost': 1.5, 'gene_tie_breaker': 0.5, 'gene_boost': 1}\n"
     ]
    }
   ],
   "source": [
    "run, params = eval.run(topics)"
   ]
  },
  {
   "cell_type": "code",
   "execution_count": 7,
   "metadata": {},
   "outputs": [
    {
     "data": {
      "text/plain": [
       "{'recall_1000': 0.8205, 'ndcg': 0.7551, 'Rprec': 0.4231, 'P_10': 0.9}"
      ]
     },
     "execution_count": 7,
     "metadata": {},
     "output_type": "execute_result"
    }
   ],
   "source": [
    "results, aggregated = eval.evaluate(qrels[(qrels.relev.isin([2]))], run)\n",
    "aggregated"
   ]
  },
  {
   "cell_type": "code",
   "execution_count": 8,
   "metadata": {},
   "outputs": [
    {
     "data": {
      "text/plain": [
       "{'recall_1000': 0.6676, 'ndcg': 0.685, 'Rprec': 0.3906, 'P_10': 0.9}"
      ]
     },
     "execution_count": 8,
     "metadata": {},
     "output_type": "execute_result"
    }
   ],
   "source": [
    "results, aggregated = eval.evaluate(qrels[(qrels.relev.isin([1,2]))], run)\n",
    "aggregated"
   ]
  }
 ],
 "metadata": {
  "kernelspec": {
   "display_name": "Python 3",
   "language": "python",
   "name": "python3"
  },
  "language_info": {
   "codemirror_mode": {
    "name": "ipython",
    "version": 3
   },
   "file_extension": ".py",
   "mimetype": "text/x-python",
   "name": "python",
   "nbconvert_exporter": "python",
   "pygments_lexer": "ipython3",
   "version": "3.6.1"
  }
 },
 "nbformat": 4,
 "nbformat_minor": 2
}
