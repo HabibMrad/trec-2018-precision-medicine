{
 "cells": [
  {
   "cell_type": "markdown",
   "metadata": {},
   "source": [
    "# TREC 2018 Precision Medicine"
   ]
  },
  {
   "cell_type": "code",
   "execution_count": 1,
   "metadata": {},
   "outputs": [],
   "source": [
    "import json\n",
    "from json2html import *\n",
    "from IPython.display import HTML\n",
    "import eval\n",
    "from sklearn.model_selection import train_test_split\n",
    "import pandas"
   ]
  },
  {
   "cell_type": "raw",
   "metadata": {},
   "source": [
    "Load and show configuration"
   ]
  },
  {
   "cell_type": "code",
   "execution_count": 2,
   "metadata": {},
   "outputs": [],
   "source": [
    "with open('config.json', 'r') as f:\n",
    "    config = json.load(f)\n",
    "#HTML(json2html.convert(json = config))"
   ]
  },
  {
   "cell_type": "markdown",
   "metadata": {},
   "source": [
    "Load TOPICS and GOLD STANDARD from last year (30 topics)"
   ]
  },
  {
   "cell_type": "code",
   "execution_count": 7,
   "metadata": {},
   "outputs": [],
   "source": [
    "topics_df = eval.get_topics('./topics/topics2017.xml')\n",
    "topics_train, topics_test = train_test_split(topics_df, test_size=0.1)"
   ]
  },
  {
   "cell_type": "code",
   "execution_count": 6,
   "metadata": {},
   "outputs": [],
   "source": [
    "qrels = eval.get_qrels('./gold-standard/sorted.abstracts.2017.qrels')\n",
    "qrels_train, qrels_test = eval.split_qrels(qrels, topics_train, topics_test)"
   ]
  },
  {
   "cell_type": "code",
   "execution_count": 8,
   "metadata": {},
   "outputs": [],
   "source": [
    "assert(set(topics_train['topic'])==set(qrels_train.keys()))\n",
    "assert(set(topics_test['topic'])==set(qrels_test.keys()))"
   ]
  },
  {
   "cell_type": "code",
   "execution_count": 7,
   "metadata": {},
   "outputs": [
    {
     "name": "stdout",
     "output_type": "stream",
     "text": [
      "RUN: FIXME {'query_template': 'baseline.json', 'disease_tie_breaker': 0.5, 'disease_boost': 1.5, 'gene_tie_breaker': 0.5, 'gene_boost': 1}\n",
      "TOPIC: 30\n",
      "TOPIC: 17\n",
      "TOPIC: 20\n",
      "TOPIC: 2\n",
      "TOPIC: 15\n",
      "TOPIC: 26\n",
      "TOPIC: 22\n",
      "TOPIC: 6\n",
      "TOPIC: 13\n",
      "TOPIC: 10\n",
      "TOPIC: 23\n",
      "TOPIC: 25\n",
      "TOPIC: 3\n",
      "TOPIC: 28\n",
      "TOPIC: 24\n",
      "TOPIC: 27\n",
      "TOPIC: 12\n",
      "TOPIC: 9\n",
      "TOPIC: 16\n",
      "TOPIC: 4\n",
      "TOPIC: 19\n"
     ]
    }
   ],
   "source": [
    "run_df, run_params = eval.run(topics_train)"
   ]
  },
  {
   "cell_type": "code",
   "execution_count": null,
   "metadata": {},
   "outputs": [],
   "source": []
  },
  {
   "cell_type": "code",
   "execution_count": 10,
   "metadata": {},
   "outputs": [
    {
     "data": {
      "text/plain": [
       "{'ndcg': 0.5207, 'Rprec': 0.2783, 'P_10': 0.5048}"
      ]
     },
     "execution_count": 10,
     "metadata": {},
     "output_type": "execute_result"
    }
   ],
   "source": [
    "training_results, training_aggregated = eval.evaluate(qrels, run_df)\n",
    "training_aggregated"
   ]
  },
  {
   "cell_type": "code",
   "execution_count": 9,
   "metadata": {},
   "outputs": [
    {
     "data": {
      "text/plain": [
       "{'query_template': 'baseline.json',\n",
       " 'disease_tie_breaker': 0.5,\n",
       " 'disease_boost': 1.5,\n",
       " 'gene_tie_breaker': 0.5,\n",
       " 'gene_boost': 1}"
      ]
     },
     "execution_count": 9,
     "metadata": {},
     "output_type": "execute_result"
    }
   ],
   "source": [
    "test_results, test_aggregated = eval.evaluate(qrels, run_df)\n",
    "training_aggregated\n",
    "run_df, run_params = eval.run(topics_test, run_params)"
   ]
  },
  {
   "cell_type": "code",
   "execution_count": null,
   "metadata": {},
   "outputs": [],
   "source": [
    "run_df"
   ]
  },
  {
   "cell_type": "code",
   "execution_count": null,
   "metadata": {},
   "outputs": [],
   "source": [
    "eval.experiment(topics_df, qrels)"
   ]
  },
  {
   "cell_type": "code",
   "execution_count": null,
   "metadata": {},
   "outputs": [],
   "source": [
    "run_df = eval.run(topics_df)"
   ]
  },
  {
   "cell_type": "code",
   "execution_count": null,
   "metadata": {},
   "outputs": [],
   "source": [
    "#run_df"
   ]
  },
  {
   "cell_type": "code",
   "execution_count": null,
   "metadata": {},
   "outputs": [],
   "source": [
    "results, aggregated = eval.evaluate(qrels, run_df)"
   ]
  },
  {
   "cell_type": "code",
   "execution_count": null,
   "metadata": {},
   "outputs": [],
   "source": [
    "aggregated"
   ]
  }
 ],
 "metadata": {
  "kernelspec": {
   "display_name": "Python 3",
   "language": "python",
   "name": "python3"
  },
  "language_info": {
   "codemirror_mode": {
    "name": "ipython",
    "version": 3
   },
   "file_extension": ".py",
   "mimetype": "text/x-python",
   "name": "python",
   "nbconvert_exporter": "python",
   "pygments_lexer": "ipython3",
   "version": "3.6.1"
  }
 },
 "nbformat": 4,
 "nbformat_minor": 2
}
