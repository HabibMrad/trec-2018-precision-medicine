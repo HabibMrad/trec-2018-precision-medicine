{
 "cells": [
  {
   "cell_type": "markdown",
   "metadata": {},
   "source": [
    "# TREC 2018 Precision Medicine"
   ]
  },
  {
   "cell_type": "code",
   "execution_count": 1,
   "metadata": {},
   "outputs": [],
   "source": [
    "import json\n",
    "from json2html import *\n",
    "from IPython.display import HTML\n",
    "import eval\n",
    "import pandas"
   ]
  },
  {
   "cell_type": "raw",
   "metadata": {},
   "source": [
    "Load and show configuration"
   ]
  },
  {
   "cell_type": "code",
   "execution_count": 2,
   "metadata": {},
   "outputs": [],
   "source": [
    "with open('config.json', 'r') as f:\n",
    "    config = json.load(f)\n",
    "#HTML(json2html.convert(json = config))"
   ]
  },
  {
   "cell_type": "markdown",
   "metadata": {},
   "source": [
    "## Load and split TOPICS and GOLD STANDARD from last year (30 topics)\n",
    "Also, split them into training, test, and development set."
   ]
  },
  {
   "cell_type": "code",
   "execution_count": 3,
   "metadata": {},
   "outputs": [],
   "source": [
    "topics_df = eval.get_topics('./topics/topics2017.xml')\n",
    "topics_train, topics_test, topics_dev = eval.split_topics(topics_df)"
   ]
  },
  {
   "cell_type": "code",
   "execution_count": 4,
   "metadata": {},
   "outputs": [],
   "source": [
    "qrels = eval.get_qrels('./gold-standard/sorted.abstracts.2017.qrels')\n",
    "qrels_train, qrels_test, qrels_dev = eval.split_qrels(qrels, topics_train, topics_test, topics_dev)"
   ]
  },
  {
   "cell_type": "markdown",
   "metadata": {},
   "source": [
    "## Verify that the split in topics and qrels match"
   ]
  },
  {
   "cell_type": "code",
   "execution_count": 5,
   "metadata": {},
   "outputs": [],
   "source": [
    "assert(set([str(topic) for topic in topics_train['topic']])==set(qrels_train.keys()))\n",
    "assert(set([str(topic) for topic in topics_test['topic']])==set(qrels_test.keys()))\n",
    "assert(set([str(topic) for topic in topics_dev['topic']])==set(qrels_dev.keys()))"
   ]
  },
  {
   "cell_type": "markdown",
   "metadata": {},
   "source": [
    "Test run with default_params"
   ]
  },
  {
   "cell_type": "code",
   "execution_count": 6,
   "metadata": {},
   "outputs": [
    {
     "name": "stdout",
     "output_type": "stream",
     "text": [
      "RUN: FIXME TOPICS: 12 {'gene_boost': 1, 'disease_tie_breaker': 0.5, 'gene_tie_breaker': 0.5, 'query_template': 'baseline.json', 'disease_boost': 1.5}\n"
     ]
    }
   ],
   "source": [
    "training_run_df, training_run_params = eval.run(topics_train)"
   ]
  },
  {
   "cell_type": "code",
   "execution_count": 7,
   "metadata": {},
   "outputs": [],
   "source": [
    "training_results, training_aggregated = eval.evaluate(qrels_train, training_run_df)\n",
    "training_score = pandas.Series(training_aggregated, name='training ' + '(' + str(len(qrels_train)) + ' topics)')"
   ]
  },
  {
   "cell_type": "code",
   "execution_count": 8,
   "metadata": {},
   "outputs": [
    {
     "name": "stdout",
     "output_type": "stream",
     "text": [
      "RUN: FIXME TOPICS: 9 {'gene_boost': 1, 'disease_tie_breaker': 0.5, 'gene_tie_breaker': 0.5, 'query_template': 'baseline.json', 'disease_boost': 1.5}\n"
     ]
    }
   ],
   "source": [
    "test_run_df, test_run_params = eval.run(topics_test, training_run_params)"
   ]
  },
  {
   "cell_type": "code",
   "execution_count": 9,
   "metadata": {},
   "outputs": [],
   "source": [
    "test_results, test_aggregated = eval.evaluate(qrels_test, test_run_df)\n",
    "test_score = pandas.Series(test_aggregated, name='test ' + '(' + str(len(qrels_test)) + ' topics)')"
   ]
  },
  {
   "cell_type": "code",
   "execution_count": 10,
   "metadata": {},
   "outputs": [
    {
     "data": {
      "text/html": [
       "<div>\n",
       "<style scoped>\n",
       "    .dataframe tbody tr th:only-of-type {\n",
       "        vertical-align: middle;\n",
       "    }\n",
       "\n",
       "    .dataframe tbody tr th {\n",
       "        vertical-align: top;\n",
       "    }\n",
       "\n",
       "    .dataframe thead th {\n",
       "        text-align: right;\n",
       "    }\n",
       "</style>\n",
       "<table border=\"1\" class=\"dataframe\">\n",
       "  <thead>\n",
       "    <tr style=\"text-align: right;\">\n",
       "      <th></th>\n",
       "      <th>P_10</th>\n",
       "      <th>Rprec</th>\n",
       "      <th>ndcg</th>\n",
       "    </tr>\n",
       "  </thead>\n",
       "  <tbody>\n",
       "    <tr>\n",
       "      <th>training (12 topics)</th>\n",
       "      <td>0.4583</td>\n",
       "      <td>0.2680</td>\n",
       "      <td>0.5378</td>\n",
       "    </tr>\n",
       "    <tr>\n",
       "      <th>training (9 topics)</th>\n",
       "      <td>0.4333</td>\n",
       "      <td>0.2878</td>\n",
       "      <td>0.5403</td>\n",
       "    </tr>\n",
       "  </tbody>\n",
       "</table>\n",
       "</div>"
      ],
      "text/plain": [
       "                        P_10   Rprec    ndcg\n",
       "training (12 topics)  0.4583  0.2680  0.5378\n",
       "training (9 topics)   0.4333  0.2878  0.5403"
      ]
     },
     "execution_count": 10,
     "metadata": {},
     "output_type": "execute_result"
    }
   ],
   "source": [
    "pandas.DataFrame([training_score, test_score])"
   ]
  },
  {
   "cell_type": "code",
   "execution_count": 11,
   "metadata": {},
   "outputs": [],
   "source": [
    "#eval.experiment(topics_df, qrels)"
   ]
  }
 ],
 "metadata": {
  "kernelspec": {
   "display_name": "Python 3",
   "language": "python",
   "name": "python3"
  },
  "language_info": {
   "codemirror_mode": {
    "name": "ipython",
    "version": 3
   },
   "file_extension": ".py",
   "mimetype": "text/x-python",
   "name": "python",
   "nbconvert_exporter": "python",
   "pygments_lexer": "ipython3",
   "version": "3.5.2"
  }
 },
 "nbformat": 4,
 "nbformat_minor": 2
}
