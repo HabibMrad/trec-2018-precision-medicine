{
 "cells": [
  {
   "cell_type": "markdown",
   "metadata": {},
   "source": [
    "# TREC 2018 Precision Medicine"
   ]
  },
  {
   "cell_type": "code",
   "execution_count": 1,
   "metadata": {},
   "outputs": [],
   "source": [
    "import json\n",
    "from json2html import *\n",
    "from IPython.display import HTML\n",
    "import eval"
   ]
  },
  {
   "cell_type": "raw",
   "metadata": {},
   "source": [
    "Load and show configuration"
   ]
  },
  {
   "cell_type": "code",
   "execution_count": 2,
   "metadata": {},
   "outputs": [],
   "source": [
    "with open('config.json', 'r') as f:\n",
    "    config = json.load(f)\n",
    "#HTML(json2html.convert(json = config))"
   ]
  },
  {
   "cell_type": "markdown",
   "metadata": {},
   "source": [
    "Load TOPICS and GOLD STANDARD from last year (30 topics)"
   ]
  },
  {
   "cell_type": "code",
   "execution_count": 3,
   "metadata": {},
   "outputs": [],
   "source": [
    "topics_df = eval.get_topics('./topics/topics2017.xml')"
   ]
  },
  {
   "cell_type": "code",
   "execution_count": 4,
   "metadata": {},
   "outputs": [],
   "source": [
    "#topics_df"
   ]
  },
  {
   "cell_type": "code",
   "execution_count": 5,
   "metadata": {},
   "outputs": [],
   "source": [
    "qrels = eval.get_qrels('./gold-standard/sorted.abstracts.2017.qrels')"
   ]
  },
  {
   "cell_type": "code",
   "execution_count": 6,
   "metadata": {},
   "outputs": [
    {
     "name": "stdout",
     "output_type": "stream",
     "text": [
      "{'gene_tie_breaker': [0.1, 0.5], 'gene_boost': [1, 2, 5], 'disease_boost': [1, 2, 5], 'disease_tie_breaker': [0.1, 0.5], 'query_template': ['variable.json']}\n",
      "RUN: FIXME {'gene_tie_breaker': '0.1', 'gene_boost': '1', 'disease_boost': '1', 'disease_tie_breaker': '0.1', 'query_template': 'variable.json'}\n",
      "{'P_10': 0.3067, 'ndcg': 0.4139, 'Rprec': 0.1952}\n",
      "RUN: FIXME {'gene_tie_breaker': '0.1', 'gene_boost': '2', 'disease_boost': '1', 'disease_tie_breaker': '0.1', 'query_template': 'variable.json'}\n",
      "{'P_10': 0.3033, 'ndcg': 0.4003, 'Rprec': 0.1852}\n",
      "RUN: FIXME {'gene_tie_breaker': '0.1', 'gene_boost': '5', 'disease_boost': '1', 'disease_tie_breaker': '0.1', 'query_template': 'variable.json'}\n",
      "{'P_10': 0.2933, 'ndcg': 0.3936, 'Rprec': 0.181}\n",
      "RUN: FIXME {'gene_tie_breaker': '0.5', 'gene_boost': '1', 'disease_boost': '1', 'disease_tie_breaker': '0.1', 'query_template': 'variable.json'}\n",
      "{'P_10': 0.3, 'ndcg': 0.3968, 'Rprec': 0.1853}\n",
      "RUN: FIXME {'gene_tie_breaker': '0.5', 'gene_boost': '2', 'disease_boost': '1', 'disease_tie_breaker': '0.1', 'query_template': 'variable.json'}\n",
      "{'P_10': 0.29, 'ndcg': 0.389, 'Rprec': 0.1804}\n",
      "RUN: FIXME {'gene_tie_breaker': '0.5', 'gene_boost': '5', 'disease_boost': '1', 'disease_tie_breaker': '0.1', 'query_template': 'variable.json'}\n",
      "{'P_10': 0.28, 'ndcg': 0.3843, 'Rprec': 0.179}\n",
      "RUN: FIXME {'gene_tie_breaker': '0.1', 'gene_boost': '1', 'disease_boost': '2', 'disease_tie_breaker': '0.1', 'query_template': 'variable.json'}\n",
      "{'P_10': 0.3067, 'ndcg': 0.4139, 'Rprec': 0.1952}\n",
      "RUN: FIXME {'gene_tie_breaker': '0.1', 'gene_boost': '2', 'disease_boost': '2', 'disease_tie_breaker': '0.1', 'query_template': 'variable.json'}\n",
      "{'P_10': 0.3033, 'ndcg': 0.4003, 'Rprec': 0.1852}\n",
      "RUN: FIXME {'gene_tie_breaker': '0.1', 'gene_boost': '5', 'disease_boost': '2', 'disease_tie_breaker': '0.1', 'query_template': 'variable.json'}\n",
      "{'P_10': 0.2933, 'ndcg': 0.3936, 'Rprec': 0.181}\n",
      "RUN: FIXME {'gene_tie_breaker': '0.5', 'gene_boost': '1', 'disease_boost': '2', 'disease_tie_breaker': '0.1', 'query_template': 'variable.json'}\n",
      "{'P_10': 0.3, 'ndcg': 0.3968, 'Rprec': 0.1853}\n",
      "RUN: FIXME {'gene_tie_breaker': '0.5', 'gene_boost': '2', 'disease_boost': '2', 'disease_tie_breaker': '0.1', 'query_template': 'variable.json'}\n",
      "{'P_10': 0.29, 'ndcg': 0.389, 'Rprec': 0.1804}\n",
      "RUN: FIXME {'gene_tie_breaker': '0.5', 'gene_boost': '5', 'disease_boost': '2', 'disease_tie_breaker': '0.1', 'query_template': 'variable.json'}\n",
      "{'P_10': 0.28, 'ndcg': 0.3843, 'Rprec': 0.179}\n",
      "RUN: FIXME {'gene_tie_breaker': '0.1', 'gene_boost': '1', 'disease_boost': '5', 'disease_tie_breaker': '0.1', 'query_template': 'variable.json'}\n",
      "{'P_10': 0.3067, 'ndcg': 0.4139, 'Rprec': 0.1952}\n",
      "RUN: FIXME {'gene_tie_breaker': '0.1', 'gene_boost': '2', 'disease_boost': '5', 'disease_tie_breaker': '0.1', 'query_template': 'variable.json'}\n",
      "{'P_10': 0.3033, 'ndcg': 0.4003, 'Rprec': 0.1852}\n",
      "RUN: FIXME {'gene_tie_breaker': '0.1', 'gene_boost': '5', 'disease_boost': '5', 'disease_tie_breaker': '0.1', 'query_template': 'variable.json'}\n",
      "{'P_10': 0.2933, 'ndcg': 0.3936, 'Rprec': 0.181}\n",
      "RUN: FIXME {'gene_tie_breaker': '0.5', 'gene_boost': '1', 'disease_boost': '5', 'disease_tie_breaker': '0.1', 'query_template': 'variable.json'}\n",
      "{'P_10': 0.3, 'ndcg': 0.3968, 'Rprec': 0.1853}\n",
      "RUN: FIXME {'gene_tie_breaker': '0.5', 'gene_boost': '2', 'disease_boost': '5', 'disease_tie_breaker': '0.1', 'query_template': 'variable.json'}\n",
      "{'P_10': 0.29, 'ndcg': 0.389, 'Rprec': 0.1804}\n",
      "RUN: FIXME {'gene_tie_breaker': '0.5', 'gene_boost': '5', 'disease_boost': '5', 'disease_tie_breaker': '0.1', 'query_template': 'variable.json'}\n",
      "{'P_10': 0.28, 'ndcg': 0.3843, 'Rprec': 0.179}\n",
      "RUN: FIXME {'gene_tie_breaker': '0.1', 'gene_boost': '1', 'disease_boost': '1', 'disease_tie_breaker': '0.5', 'query_template': 'variable.json'}\n",
      "{'P_10': 0.4533, 'ndcg': 0.5154, 'Rprec': 0.2568}\n",
      "RUN: FIXME {'gene_tie_breaker': '0.1', 'gene_boost': '2', 'disease_boost': '1', 'disease_tie_breaker': '0.5', 'query_template': 'variable.json'}\n",
      "{'P_10': 0.4233, 'ndcg': 0.4712, 'Rprec': 0.2306}\n",
      "RUN: FIXME {'gene_tie_breaker': '0.1', 'gene_boost': '5', 'disease_boost': '1', 'disease_tie_breaker': '0.5', 'query_template': 'variable.json'}\n",
      "{'P_10': 0.33, 'ndcg': 0.427, 'Rprec': 0.201}\n",
      "RUN: FIXME {'gene_tie_breaker': '0.5', 'gene_boost': '1', 'disease_boost': '1', 'disease_tie_breaker': '0.5', 'query_template': 'variable.json'}\n",
      "{'P_10': 0.4067, 'ndcg': 0.482, 'Rprec': 0.241}\n",
      "RUN: FIXME {'gene_tie_breaker': '0.5', 'gene_boost': '2', 'disease_boost': '1', 'disease_tie_breaker': '0.5', 'query_template': 'variable.json'}\n",
      "{'P_10': 0.3533, 'ndcg': 0.4425, 'Rprec': 0.2113}\n",
      "RUN: FIXME {'gene_tie_breaker': '0.5', 'gene_boost': '5', 'disease_boost': '1', 'disease_tie_breaker': '0.5', 'query_template': 'variable.json'}\n",
      "{'P_10': 0.31, 'ndcg': 0.4083, 'Rprec': 0.1892}\n",
      "RUN: FIXME {'gene_tie_breaker': '0.1', 'gene_boost': '1', 'disease_boost': '2', 'disease_tie_breaker': '0.5', 'query_template': 'variable.json'}\n",
      "{'P_10': 0.4533, 'ndcg': 0.5154, 'Rprec': 0.2568}\n",
      "RUN: FIXME {'gene_tie_breaker': '0.1', 'gene_boost': '2', 'disease_boost': '2', 'disease_tie_breaker': '0.5', 'query_template': 'variable.json'}\n",
      "{'P_10': 0.4233, 'ndcg': 0.4712, 'Rprec': 0.2306}\n",
      "RUN: FIXME {'gene_tie_breaker': '0.1', 'gene_boost': '5', 'disease_boost': '2', 'disease_tie_breaker': '0.5', 'query_template': 'variable.json'}\n",
      "{'P_10': 0.33, 'ndcg': 0.427, 'Rprec': 0.201}\n",
      "RUN: FIXME {'gene_tie_breaker': '0.5', 'gene_boost': '1', 'disease_boost': '2', 'disease_tie_breaker': '0.5', 'query_template': 'variable.json'}\n",
      "{'P_10': 0.4067, 'ndcg': 0.482, 'Rprec': 0.241}\n",
      "RUN: FIXME {'gene_tie_breaker': '0.5', 'gene_boost': '2', 'disease_boost': '2', 'disease_tie_breaker': '0.5', 'query_template': 'variable.json'}\n",
      "{'P_10': 0.3533, 'ndcg': 0.4425, 'Rprec': 0.2113}\n",
      "RUN: FIXME {'gene_tie_breaker': '0.5', 'gene_boost': '5', 'disease_boost': '2', 'disease_tie_breaker': '0.5', 'query_template': 'variable.json'}\n",
      "{'P_10': 0.31, 'ndcg': 0.4083, 'Rprec': 0.1892}\n",
      "RUN: FIXME {'gene_tie_breaker': '0.1', 'gene_boost': '1', 'disease_boost': '5', 'disease_tie_breaker': '0.5', 'query_template': 'variable.json'}\n",
      "{'P_10': 0.4533, 'ndcg': 0.5154, 'Rprec': 0.2568}\n",
      "RUN: FIXME {'gene_tie_breaker': '0.1', 'gene_boost': '2', 'disease_boost': '5', 'disease_tie_breaker': '0.5', 'query_template': 'variable.json'}\n",
      "{'P_10': 0.4233, 'ndcg': 0.4712, 'Rprec': 0.2306}\n",
      "RUN: FIXME {'gene_tie_breaker': '0.1', 'gene_boost': '5', 'disease_boost': '5', 'disease_tie_breaker': '0.5', 'query_template': 'variable.json'}\n",
      "{'P_10': 0.33, 'ndcg': 0.427, 'Rprec': 0.201}\n",
      "RUN: FIXME {'gene_tie_breaker': '0.5', 'gene_boost': '1', 'disease_boost': '5', 'disease_tie_breaker': '0.5', 'query_template': 'variable.json'}\n",
      "{'P_10': 0.4067, 'ndcg': 0.482, 'Rprec': 0.241}\n",
      "RUN: FIXME {'gene_tie_breaker': '0.5', 'gene_boost': '2', 'disease_boost': '5', 'disease_tie_breaker': '0.5', 'query_template': 'variable.json'}\n",
      "{'P_10': 0.3533, 'ndcg': 0.4425, 'Rprec': 0.2113}\n",
      "RUN: FIXME {'gene_tie_breaker': '0.5', 'gene_boost': '5', 'disease_boost': '5', 'disease_tie_breaker': '0.5', 'query_template': 'variable.json'}\n",
      "{'P_10': 0.31, 'ndcg': 0.4083, 'Rprec': 0.1892}\n"
     ]
    }
   ],
   "source": [
    "eval.experiment(topics_df, qrels)"
   ]
  },
  {
   "cell_type": "code",
   "execution_count": 7,
   "metadata": {},
   "outputs": [
    {
     "name": "stdout",
     "output_type": "stream",
     "text": [
      "RUN: FIXME {'gene_tie_breaker': 0.5, 'gene_boost': 1, 'disease_boost': 1.5, 'disease_tie_breaker': 0.5, 'query_template': 'baseline.json'}\n"
     ]
    }
   ],
   "source": [
    "run_df = eval.run(topics_df)"
   ]
  },
  {
   "cell_type": "code",
   "execution_count": 8,
   "metadata": {},
   "outputs": [],
   "source": [
    "#run_df"
   ]
  },
  {
   "cell_type": "code",
   "execution_count": 9,
   "metadata": {},
   "outputs": [],
   "source": [
    "results, aggregated = eval.evaluate(qrels, run_df)"
   ]
  },
  {
   "cell_type": "code",
   "execution_count": 10,
   "metadata": {},
   "outputs": [
    {
     "data": {
      "text/plain": [
       "{'P_10': 0.48, 'Rprec': 0.2847, 'ndcg': 0.5338}"
      ]
     },
     "execution_count": 10,
     "metadata": {},
     "output_type": "execute_result"
    }
   ],
   "source": [
    "aggregated"
   ]
  }
 ],
 "metadata": {
  "kernelspec": {
   "display_name": "Python 3",
   "language": "python",
   "name": "python3"
  },
  "language_info": {
   "codemirror_mode": {
    "name": "ipython",
    "version": 3
   },
   "file_extension": ".py",
   "mimetype": "text/x-python",
   "name": "python",
   "nbconvert_exporter": "python",
   "pygments_lexer": "ipython3",
   "version": "3.5.2"
  }
 },
 "nbformat": 4,
 "nbformat_minor": 2
}
