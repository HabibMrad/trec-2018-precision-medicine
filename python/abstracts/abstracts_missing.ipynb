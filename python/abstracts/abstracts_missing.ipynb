{
 "cells": [
  {
   "cell_type": "markdown",
   "metadata": {},
   "source": [
    "# TREC 2018 Precision Medicine"
   ]
  },
  {
   "cell_type": "code",
   "execution_count": 1,
   "metadata": {},
   "outputs": [],
   "source": [
    "import json\n",
    "from json2html import *\n",
    "from IPython.display import HTML\n",
    "import pandas\n",
    "\n",
    "import os, sys\n",
    "nb_dir = os.path.split(os.getcwd())[0]\n",
    "if nb_dir not in sys.path:\n",
    "    sys.path.append(nb_dir)\n",
    "from trec_utils import utils, running, evaluation"
   ]
  },
  {
   "cell_type": "raw",
   "metadata": {},
   "source": [
    "Load and show configuration"
   ]
  },
  {
   "cell_type": "code",
   "execution_count": 2,
   "metadata": {},
   "outputs": [],
   "source": [
    "config = utils.load_config()"
   ]
  },
  {
   "cell_type": "code",
   "execution_count": 3,
   "metadata": {},
   "outputs": [],
   "source": [
    "topics_all = utils.get_topics('./topics/topics2017.xml')\n",
    "qrels_all = utils.get_qrels('./gold-standard/abstracts.2017.qrels')"
   ]
  },
  {
   "cell_type": "code",
   "execution_count": 13,
   "metadata": {},
   "outputs": [
    {
     "data": {
      "text/html": [
       "<div>\n",
       "<style scoped>\n",
       "    .dataframe tbody tr th:only-of-type {\n",
       "        vertical-align: middle;\n",
       "    }\n",
       "\n",
       "    .dataframe tbody tr th {\n",
       "        vertical-align: top;\n",
       "    }\n",
       "\n",
       "    .dataframe thead th {\n",
       "        text-align: right;\n",
       "    }\n",
       "</style>\n",
       "<table border=\"1\" class=\"dataframe\">\n",
       "  <thead>\n",
       "    <tr style=\"text-align: right;\">\n",
       "      <th></th>\n",
       "      <th>topic</th>\n",
       "      <th>disease</th>\n",
       "      <th>gene</th>\n",
       "      <th>gene1</th>\n",
       "      <th>gene2</th>\n",
       "      <th>gene3</th>\n",
       "      <th>sex</th>\n",
       "      <th>age</th>\n",
       "      <th>age_group</th>\n",
       "    </tr>\n",
       "  </thead>\n",
       "  <tbody>\n",
       "    <tr>\n",
       "      <th>2</th>\n",
       "      <td>2</td>\n",
       "      <td>Colon cancer</td>\n",
       "      <td>KRAS (G13D), BRAF (V600E)</td>\n",
       "      <td>KRAS (G13D)</td>\n",
       "      <td>BRAF (V600E)</td>\n",
       "      <td></td>\n",
       "      <td>male</td>\n",
       "      <td>52</td>\n",
       "      <td>aged</td>\n",
       "    </tr>\n",
       "  </tbody>\n",
       "</table>\n",
       "</div>"
      ],
      "text/plain": [
       "   topic       disease                       gene        gene1          gene2  \\\n",
       "2      2  Colon cancer  KRAS (G13D), BRAF (V600E)  KRAS (G13D)   BRAF (V600E)   \n",
       "\n",
       "  gene3   sex age age_group  \n",
       "2        male  52      aged  "
      ]
     },
     "execution_count": 13,
     "metadata": {},
     "output_type": "execute_result"
    }
   ],
   "source": [
    "TOPIC = 2\n",
    "topic = topics_all[(topics_all.topic==TOPIC)]\n",
    "qrels = utils.qrels_of_topics(qrels_all, topic)\n",
    "topic"
   ]
  },
  {
   "cell_type": "code",
   "execution_count": 14,
   "metadata": {},
   "outputs": [
    {
     "name": "stdout",
     "output_type": "stream",
     "text": [
      "RUN: mugctbase1 TOPICS: 1\n"
     ]
    },
    {
     "data": {
      "text/plain": [
       "{'P_10': 0.9, 'Rprec': 0.4295, 'ndcg': 0.7504, 'recall_1000': 0.8141}"
      ]
     },
     "execution_count": 14,
     "metadata": {},
     "output_type": "execute_result"
    }
   ],
   "source": [
    "run_params = {\n",
    "    'run_id':'mugctbase1',\n",
    "    'query_template':'submitted/baseline_sex_age.json',\n",
    "}\n",
    "\n",
    "run, run_params = running.run(topic, 'ABSTRACTS', run_params)\n",
    "results, aggregated = evaluation.evaluate(qrels[(qrels.relev.isin([2]))], run)\n",
    "aggregated"
   ]
  },
  {
   "cell_type": "markdown",
   "metadata": {},
   "source": [
    "Check relevant documents missed and why (for topic 2 for example)"
   ]
  },
  {
   "cell_type": "code",
   "execution_count": 15,
   "metadata": {},
   "outputs": [
    {
     "data": {
      "text/plain": [
       "{'15735008',\n",
       " '17517901',\n",
       " '18097554',\n",
       " '18098337',\n",
       " '21457162',\n",
       " '21681432',\n",
       " '22899370',\n",
       " '22972628',\n",
       " '23015072',\n",
       " '23071293',\n",
       " '23112547',\n",
       " '23375249',\n",
       " '23462926',\n",
       " '23763264',\n",
       " '24025253',\n",
       " '24522186',\n",
       " '24778007',\n",
       " '24805134',\n",
       " '25073438',\n",
       " '25469291',\n",
       " '25696788',\n",
       " '26184520',\n",
       " '26371285',\n",
       " '26623049',\n",
       " '27099668',\n",
       " 'AACR_2014-2009',\n",
       " 'AACR_2017-4639',\n",
       " 'AACR_2017-5162',\n",
       " 'ASCO_60628-101'}"
      ]
     },
     "execution_count": 15,
     "metadata": {},
     "output_type": "execute_result"
    }
   ],
   "source": [
    "run_set = set(run[(run.TOPIC_NO==TOPIC)].ID)\n",
    "qrels_set = set(qrels[(qrels.relev.isin([2]))].doc_id)\n",
    "qrels_set.difference(run_set)"
   ]
  },
  {
   "cell_type": "code",
   "execution_count": null,
   "metadata": {},
   "outputs": [],
   "source": []
  }
 ],
 "metadata": {
  "kernelspec": {
   "display_name": "Python 3",
   "language": "python",
   "name": "python3"
  },
  "language_info": {
   "codemirror_mode": {
    "name": "ipython",
    "version": 3
   },
   "file_extension": ".py",
   "mimetype": "text/x-python",
   "name": "python",
   "nbconvert_exporter": "python",
   "pygments_lexer": "ipython3",
   "version": "3.5.2"
  }
 },
 "nbformat": 4,
 "nbformat_minor": 2
}
