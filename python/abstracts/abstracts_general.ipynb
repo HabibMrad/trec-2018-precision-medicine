{
 "cells": [
  {
   "cell_type": "markdown",
   "metadata": {},
   "source": [
    "# TREC 2018 Precision Medicine"
   ]
  },
  {
   "cell_type": "code",
   "execution_count": 1,
   "metadata": {},
   "outputs": [],
   "source": [
    "import json\n",
    "from json2html import *\n",
    "from IPython.display import HTML\n",
    "import pandas\n",
    "\n",
    "import os, sys\n",
    "nb_dir = os.path.split(os.getcwd())[0]\n",
    "if nb_dir not in sys.path:\n",
    "    sys.path.append(nb_dir)\n",
    "from trec_utils import utils, running, evaluation"
   ]
  },
  {
   "cell_type": "raw",
   "metadata": {},
   "source": [
    "Load and show configuration"
   ]
  },
  {
   "cell_type": "code",
   "execution_count": 2,
   "metadata": {},
   "outputs": [],
   "source": [
    "config = utils.load_config()"
   ]
  },
  {
   "cell_type": "markdown",
   "metadata": {},
   "source": [
    "## Load and split TOPICS and GOLD STANDARD from last year (30 topics)\n",
    "Also, split them into training, test, and development set."
   ]
  },
  {
   "cell_type": "code",
   "execution_count": 3,
   "metadata": {},
   "outputs": [],
   "source": [
    "topics_all = utils.get_topics('./topics/topics2017.xml')\n",
    "qrels_all = utils.get_qrels('./gold-standard/abstracts.2017.qrels')"
   ]
  },
  {
   "cell_type": "code",
   "execution_count": 4,
   "metadata": {},
   "outputs": [],
   "source": [
    "topics_train, topics_test, topics_dev = utils.split_topics(topics_all)\n",
    "qrels_train, qrels_test, qrels_dev = utils.split_qrels(qrels_all, topics_train, topics_test, topics_dev)"
   ]
  },
  {
   "cell_type": "code",
   "execution_count": 5,
   "metadata": {},
   "outputs": [],
   "source": [
    "assert(set([topic for topic in topics_train['topic']])==set([topic for topic in qrels_train['topic']]))\n",
    "assert(set([topic for topic in topics_test['topic']])==set([topic for topic in qrels_test['topic']]))\n",
    "assert(set([topic for topic in topics_dev['topic']])==set([topic for topic in qrels_dev['topic']]))"
   ]
  },
  {
   "cell_type": "code",
   "execution_count": 6,
   "metadata": {},
   "outputs": [
    {
     "name": "stdout",
     "output_type": "stream",
     "text": [
      "RUN: FIXME TOPICS: 30 {'gene_tie_breaker': 0.5, 'disease_tie_breaker': 0.5, 'query_template': 'baseline.json', 'gene_boost': 1, 'disease_boost': 1.5}\n"
     ]
    },
    {
     "data": {
      "text/plain": [
       "{'P_10': 0.48, 'Rprec': 0.2847, 'ndcg': 0.5338, 'recall_1000': 0.6139}"
      ]
     },
     "execution_count": 6,
     "metadata": {},
     "output_type": "execute_result"
    }
   ],
   "source": [
    "full_run_params = running.get_default_run_params()\n",
    "full_run_params['query_template'] = 'baseline.json'\n",
    "full_run_df, full_run_params = running.run(topics_all)\n",
    "results, aggregated = evaluation.evaluate(qrels_all, full_run_df)\n",
    "aggregated\n",
    "#assert(aggregated['ndcg'] == 0.5338)"
   ]
  },
  {
   "cell_type": "code",
   "execution_count": 7,
   "metadata": {},
   "outputs": [
    {
     "name": "stdout",
     "output_type": "stream",
     "text": [
      "RUN: FIXME TOPICS: 30 {'gene_tie_breaker': 0.5, 'disease_tie_breaker': 0.5, 'query_template': 'baseline2.json', 'gene_boost': 1, 'disease_boost': 1.5}\n"
     ]
    },
    {
     "data": {
      "text/plain": [
       "{'P_10': 0.48, 'Rprec': 0.2847, 'ndcg': 0.5338, 'recall_1000': 0.6139}"
      ]
     },
     "execution_count": 7,
     "metadata": {},
     "output_type": "execute_result"
    }
   ],
   "source": [
    "run_params = running.get_default_run_params()\n",
    "run_params['query_template'] = 'baseline2.json'\n",
    "full_run_df, run_params = running.run(topics_all)\n",
    "results, aggregated = evaluation.evaluate(qrels_all, full_run_df)\n",
    "aggregated\n",
    "#assert(aggregated['ndcg'] == 0.5338)"
   ]
  },
  {
   "cell_type": "code",
   "execution_count": 8,
   "metadata": {},
   "outputs": [],
   "source": [
    "#full_run_df"
   ]
  },
  {
   "cell_type": "markdown",
   "metadata": {},
   "source": [
    "Test run with default_params"
   ]
  },
  {
   "cell_type": "code",
   "execution_count": 9,
   "metadata": {},
   "outputs": [
    {
     "name": "stdout",
     "output_type": "stream",
     "text": [
      "RUN: FIXME TOPICS: 12 {'gene_tie_breaker': 0.5, 'disease_tie_breaker': 0.5, 'query_template': 'baseline2.json', 'gene_boost': 1, 'disease_boost': 1.5}\n"
     ]
    }
   ],
   "source": [
    "training_run_df, training_run_params = running.run(topics_train)"
   ]
  },
  {
   "cell_type": "code",
   "execution_count": 10,
   "metadata": {},
   "outputs": [],
   "source": [
    "training_results, training_aggregated = evaluation.evaluate(qrels_train, training_run_df)\n",
    "training_score = pandas.Series(training_aggregated, name='training ' + '(' + str(len(topics_train)) + ' topics)')"
   ]
  },
  {
   "cell_type": "code",
   "execution_count": 11,
   "metadata": {},
   "outputs": [
    {
     "name": "stdout",
     "output_type": "stream",
     "text": [
      "RUN: FIXME TOPICS: 9 {'gene_tie_breaker': 0.5, 'disease_tie_breaker': 0.5, 'query_template': 'baseline2.json', 'gene_boost': 1, 'disease_boost': 1.5}\n"
     ]
    }
   ],
   "source": [
    "test_run_df, test_run_params = running.run(topics_test, training_run_params)"
   ]
  },
  {
   "cell_type": "code",
   "execution_count": 12,
   "metadata": {},
   "outputs": [
    {
     "data": {
      "text/plain": [
       "P_10           0.5917\n",
       "Rprec          0.2626\n",
       "ndcg           0.5026\n",
       "recall_1000    0.4999\n",
       "Name: training (12 topics), dtype: float64"
      ]
     },
     "execution_count": 12,
     "metadata": {},
     "output_type": "execute_result"
    }
   ],
   "source": [
    "training_score"
   ]
  },
  {
   "cell_type": "code",
   "execution_count": 13,
   "metadata": {},
   "outputs": [],
   "source": [
    "test_results, test_aggregated = evaluation.evaluate(qrels_test, test_run_df)\n",
    "test_score = pandas.Series(test_aggregated, name='test ' + '(' + str(len(topics_test)) + ' topics)')"
   ]
  },
  {
   "cell_type": "code",
   "execution_count": 14,
   "metadata": {},
   "outputs": [
    {
     "data": {
      "text/html": [
       "<div>\n",
       "<style scoped>\n",
       "    .dataframe tbody tr th:only-of-type {\n",
       "        vertical-align: middle;\n",
       "    }\n",
       "\n",
       "    .dataframe tbody tr th {\n",
       "        vertical-align: top;\n",
       "    }\n",
       "\n",
       "    .dataframe thead th {\n",
       "        text-align: right;\n",
       "    }\n",
       "</style>\n",
       "<table border=\"1\" class=\"dataframe\">\n",
       "  <thead>\n",
       "    <tr style=\"text-align: right;\">\n",
       "      <th></th>\n",
       "      <th>P_10</th>\n",
       "      <th>Rprec</th>\n",
       "      <th>ndcg</th>\n",
       "      <th>recall_1000</th>\n",
       "    </tr>\n",
       "  </thead>\n",
       "  <tbody>\n",
       "    <tr>\n",
       "      <th>training (12 topics)</th>\n",
       "      <td>0.5917</td>\n",
       "      <td>0.2626</td>\n",
       "      <td>0.5026</td>\n",
       "      <td>0.4999</td>\n",
       "    </tr>\n",
       "    <tr>\n",
       "      <th>test (9 topics)</th>\n",
       "      <td>0.4444</td>\n",
       "      <td>0.3171</td>\n",
       "      <td>0.5561</td>\n",
       "      <td>0.6852</td>\n",
       "    </tr>\n",
       "  </tbody>\n",
       "</table>\n",
       "</div>"
      ],
      "text/plain": [
       "                        P_10   Rprec    ndcg  recall_1000\n",
       "training (12 topics)  0.5917  0.2626  0.5026       0.4999\n",
       "test (9 topics)       0.4444  0.3171  0.5561       0.6852"
      ]
     },
     "execution_count": 14,
     "metadata": {},
     "output_type": "execute_result"
    }
   ],
   "source": [
    "pandas.DataFrame([training_score, test_score])"
   ]
  },
  {
   "cell_type": "code",
   "execution_count": 16,
   "metadata": {},
   "outputs": [],
   "source": [
    "results, aggregated = evaluation.evaluate(qrels_all, abcd)"
   ]
  },
  {
   "cell_type": "code",
   "execution_count": 17,
   "metadata": {},
   "outputs": [
    {
     "name": "stdout",
     "output_type": "stream",
     "text": [
      "{'gene_tie_breaker': [0.1, 0.5], 'disease_tie_breaker': [0.1, 0.5], 'query_template': ['variable.json'], 'gene_boost': [1, 2, 5], 'disease_boost': [1, 2, 5]}\n",
      "RUN: FIXME TOPICS: 30 {'gene_tie_breaker': '0.1', 'disease_tie_breaker': '0.1', 'query_template': 'variable.json', 'gene_boost': '1', 'disease_boost': '1'}\n",
      "{'P_10': 0.3067, 'Rprec': 0.1952, 'ndcg': 0.4139, 'recall_1000': 0.5343}\n",
      "RUN: FIXME TOPICS: 30 {'gene_tie_breaker': '0.1', 'disease_tie_breaker': '0.1', 'query_template': 'variable.json', 'gene_boost': '2', 'disease_boost': '1'}\n",
      "{'P_10': 0.3033, 'Rprec': 0.1852, 'ndcg': 0.4003, 'recall_1000': 0.5224}\n",
      "RUN: FIXME TOPICS: 30 {'gene_tie_breaker': '0.1', 'disease_tie_breaker': '0.1', 'query_template': 'variable.json', 'gene_boost': '5', 'disease_boost': '1'}\n",
      "{'P_10': 0.2933, 'Rprec': 0.181, 'ndcg': 0.3936, 'recall_1000': 0.5175}\n",
      "RUN: FIXME TOPICS: 30 {'gene_tie_breaker': '0.5', 'disease_tie_breaker': '0.1', 'query_template': 'variable.json', 'gene_boost': '1', 'disease_boost': '1'}\n",
      "{'P_10': 0.3, 'Rprec': 0.1853, 'ndcg': 0.3968, 'recall_1000': 0.5188}\n",
      "RUN: FIXME TOPICS: 30 {'gene_tie_breaker': '0.5', 'disease_tie_breaker': '0.1', 'query_template': 'variable.json', 'gene_boost': '2', 'disease_boost': '1'}\n",
      "{'P_10': 0.29, 'Rprec': 0.1804, 'ndcg': 0.389, 'recall_1000': 0.5126}\n",
      "RUN: FIXME TOPICS: 30 {'gene_tie_breaker': '0.5', 'disease_tie_breaker': '0.1', 'query_template': 'variable.json', 'gene_boost': '5', 'disease_boost': '1'}\n",
      "{'P_10': 0.28, 'Rprec': 0.179, 'ndcg': 0.3843, 'recall_1000': 0.5083}\n",
      "RUN: FIXME TOPICS: 30 {'gene_tie_breaker': '0.1', 'disease_tie_breaker': '0.1', 'query_template': 'variable.json', 'gene_boost': '1', 'disease_boost': '2'}\n",
      "{'P_10': 0.3067, 'Rprec': 0.1952, 'ndcg': 0.4139, 'recall_1000': 0.5343}\n",
      "RUN: FIXME TOPICS: 30 {'gene_tie_breaker': '0.1', 'disease_tie_breaker': '0.1', 'query_template': 'variable.json', 'gene_boost': '2', 'disease_boost': '2'}\n",
      "{'P_10': 0.3033, 'Rprec': 0.1852, 'ndcg': 0.4003, 'recall_1000': 0.5224}\n",
      "RUN: FIXME TOPICS: 30 {'gene_tie_breaker': '0.1', 'disease_tie_breaker': '0.1', 'query_template': 'variable.json', 'gene_boost': '5', 'disease_boost': '2'}\n",
      "{'P_10': 0.2933, 'Rprec': 0.181, 'ndcg': 0.3936, 'recall_1000': 0.5175}\n",
      "RUN: FIXME TOPICS: 30 {'gene_tie_breaker': '0.5', 'disease_tie_breaker': '0.1', 'query_template': 'variable.json', 'gene_boost': '1', 'disease_boost': '2'}\n",
      "{'P_10': 0.3, 'Rprec': 0.1853, 'ndcg': 0.3968, 'recall_1000': 0.5188}\n",
      "RUN: FIXME TOPICS: 30 {'gene_tie_breaker': '0.5', 'disease_tie_breaker': '0.1', 'query_template': 'variable.json', 'gene_boost': '2', 'disease_boost': '2'}\n",
      "{'P_10': 0.29, 'Rprec': 0.1804, 'ndcg': 0.389, 'recall_1000': 0.5126}\n",
      "RUN: FIXME TOPICS: 30 {'gene_tie_breaker': '0.5', 'disease_tie_breaker': '0.1', 'query_template': 'variable.json', 'gene_boost': '5', 'disease_boost': '2'}\n",
      "{'P_10': 0.28, 'Rprec': 0.179, 'ndcg': 0.3843, 'recall_1000': 0.5083}\n",
      "RUN: FIXME TOPICS: 30 {'gene_tie_breaker': '0.1', 'disease_tie_breaker': '0.1', 'query_template': 'variable.json', 'gene_boost': '1', 'disease_boost': '5'}\n",
      "{'P_10': 0.3067, 'Rprec': 0.1952, 'ndcg': 0.4139, 'recall_1000': 0.5343}\n",
      "RUN: FIXME TOPICS: 30 {'gene_tie_breaker': '0.1', 'disease_tie_breaker': '0.1', 'query_template': 'variable.json', 'gene_boost': '2', 'disease_boost': '5'}\n",
      "{'P_10': 0.3033, 'Rprec': 0.1852, 'ndcg': 0.4003, 'recall_1000': 0.5224}\n",
      "RUN: FIXME TOPICS: 30 {'gene_tie_breaker': '0.1', 'disease_tie_breaker': '0.1', 'query_template': 'variable.json', 'gene_boost': '5', 'disease_boost': '5'}\n",
      "{'P_10': 0.2933, 'Rprec': 0.181, 'ndcg': 0.3936, 'recall_1000': 0.5175}\n",
      "RUN: FIXME TOPICS: 30 {'gene_tie_breaker': '0.5', 'disease_tie_breaker': '0.1', 'query_template': 'variable.json', 'gene_boost': '1', 'disease_boost': '5'}\n",
      "{'P_10': 0.3, 'Rprec': 0.1853, 'ndcg': 0.3968, 'recall_1000': 0.5188}\n",
      "RUN: FIXME TOPICS: 30 {'gene_tie_breaker': '0.5', 'disease_tie_breaker': '0.1', 'query_template': 'variable.json', 'gene_boost': '2', 'disease_boost': '5'}\n",
      "{'P_10': 0.29, 'Rprec': 0.1804, 'ndcg': 0.389, 'recall_1000': 0.5126}\n",
      "RUN: FIXME TOPICS: 30 {'gene_tie_breaker': '0.5', 'disease_tie_breaker': '0.1', 'query_template': 'variable.json', 'gene_boost': '5', 'disease_boost': '5'}\n",
      "{'P_10': 0.28, 'Rprec': 0.179, 'ndcg': 0.3843, 'recall_1000': 0.5083}\n",
      "RUN: FIXME TOPICS: 30 {'gene_tie_breaker': '0.1', 'disease_tie_breaker': '0.5', 'query_template': 'variable.json', 'gene_boost': '1', 'disease_boost': '1'}\n",
      "{'P_10': 0.4533, 'Rprec': 0.2568, 'ndcg': 0.5154, 'recall_1000': 0.6047}\n",
      "RUN: FIXME TOPICS: 30 {'gene_tie_breaker': '0.1', 'disease_tie_breaker': '0.5', 'query_template': 'variable.json', 'gene_boost': '2', 'disease_boost': '1'}\n",
      "{'P_10': 0.4233, 'Rprec': 0.2306, 'ndcg': 0.4712, 'recall_1000': 0.5746}\n",
      "RUN: FIXME TOPICS: 30 {'gene_tie_breaker': '0.1', 'disease_tie_breaker': '0.5', 'query_template': 'variable.json', 'gene_boost': '5', 'disease_boost': '1'}\n",
      "{'P_10': 0.33, 'Rprec': 0.201, 'ndcg': 0.427, 'recall_1000': 0.5438}\n",
      "RUN: FIXME TOPICS: 30 {'gene_tie_breaker': '0.5', 'disease_tie_breaker': '0.5', 'query_template': 'variable.json', 'gene_boost': '1', 'disease_boost': '1'}\n",
      "{'P_10': 0.4067, 'Rprec': 0.241, 'ndcg': 0.482, 'recall_1000': 0.5861}\n",
      "RUN: FIXME TOPICS: 30 {'gene_tie_breaker': '0.5', 'disease_tie_breaker': '0.5', 'query_template': 'variable.json', 'gene_boost': '2', 'disease_boost': '1'}\n",
      "{'P_10': 0.3533, 'Rprec': 0.2113, 'ndcg': 0.4425, 'recall_1000': 0.5531}\n",
      "RUN: FIXME TOPICS: 30 {'gene_tie_breaker': '0.5', 'disease_tie_breaker': '0.5', 'query_template': 'variable.json', 'gene_boost': '5', 'disease_boost': '1'}\n",
      "{'P_10': 0.31, 'Rprec': 0.1892, 'ndcg': 0.4083, 'recall_1000': 0.5268}\n",
      "RUN: FIXME TOPICS: 30 {'gene_tie_breaker': '0.1', 'disease_tie_breaker': '0.5', 'query_template': 'variable.json', 'gene_boost': '1', 'disease_boost': '2'}\n",
      "{'P_10': 0.4533, 'Rprec': 0.2568, 'ndcg': 0.5154, 'recall_1000': 0.6047}\n",
      "RUN: FIXME TOPICS: 30 {'gene_tie_breaker': '0.1', 'disease_tie_breaker': '0.5', 'query_template': 'variable.json', 'gene_boost': '2', 'disease_boost': '2'}\n",
      "{'P_10': 0.4233, 'Rprec': 0.2306, 'ndcg': 0.4712, 'recall_1000': 0.5746}\n",
      "RUN: FIXME TOPICS: 30 {'gene_tie_breaker': '0.1', 'disease_tie_breaker': '0.5', 'query_template': 'variable.json', 'gene_boost': '5', 'disease_boost': '2'}\n",
      "{'P_10': 0.33, 'Rprec': 0.201, 'ndcg': 0.427, 'recall_1000': 0.5438}\n",
      "RUN: FIXME TOPICS: 30 {'gene_tie_breaker': '0.5', 'disease_tie_breaker': '0.5', 'query_template': 'variable.json', 'gene_boost': '1', 'disease_boost': '2'}\n",
      "{'P_10': 0.4067, 'Rprec': 0.241, 'ndcg': 0.482, 'recall_1000': 0.5861}\n",
      "RUN: FIXME TOPICS: 30 {'gene_tie_breaker': '0.5', 'disease_tie_breaker': '0.5', 'query_template': 'variable.json', 'gene_boost': '2', 'disease_boost': '2'}\n",
      "{'P_10': 0.3533, 'Rprec': 0.2113, 'ndcg': 0.4425, 'recall_1000': 0.5531}\n",
      "RUN: FIXME TOPICS: 30 {'gene_tie_breaker': '0.5', 'disease_tie_breaker': '0.5', 'query_template': 'variable.json', 'gene_boost': '5', 'disease_boost': '2'}\n",
      "{'P_10': 0.31, 'Rprec': 0.1892, 'ndcg': 0.4083, 'recall_1000': 0.5268}\n",
      "RUN: FIXME TOPICS: 30 {'gene_tie_breaker': '0.1', 'disease_tie_breaker': '0.5', 'query_template': 'variable.json', 'gene_boost': '1', 'disease_boost': '5'}\n",
      "{'P_10': 0.4533, 'Rprec': 0.2568, 'ndcg': 0.5154, 'recall_1000': 0.6047}\n",
      "RUN: FIXME TOPICS: 30 {'gene_tie_breaker': '0.1', 'disease_tie_breaker': '0.5', 'query_template': 'variable.json', 'gene_boost': '2', 'disease_boost': '5'}\n",
      "{'P_10': 0.4233, 'Rprec': 0.2306, 'ndcg': 0.4712, 'recall_1000': 0.5746}\n",
      "RUN: FIXME TOPICS: 30 {'gene_tie_breaker': '0.1', 'disease_tie_breaker': '0.5', 'query_template': 'variable.json', 'gene_boost': '5', 'disease_boost': '5'}\n",
      "{'P_10': 0.33, 'Rprec': 0.201, 'ndcg': 0.427, 'recall_1000': 0.5438}\n",
      "RUN: FIXME TOPICS: 30 {'gene_tie_breaker': '0.5', 'disease_tie_breaker': '0.5', 'query_template': 'variable.json', 'gene_boost': '1', 'disease_boost': '5'}\n",
      "{'P_10': 0.4067, 'Rprec': 0.241, 'ndcg': 0.482, 'recall_1000': 0.5861}\n",
      "RUN: FIXME TOPICS: 30 {'gene_tie_breaker': '0.5', 'disease_tie_breaker': '0.5', 'query_template': 'variable.json', 'gene_boost': '2', 'disease_boost': '5'}\n",
      "{'P_10': 0.3533, 'Rprec': 0.2113, 'ndcg': 0.4425, 'recall_1000': 0.5531}\n",
      "RUN: FIXME TOPICS: 30 {'gene_tie_breaker': '0.5', 'disease_tie_breaker': '0.5', 'query_template': 'variable.json', 'gene_boost': '5', 'disease_boost': '5'}\n",
      "{'P_10': 0.31, 'Rprec': 0.1892, 'ndcg': 0.4083, 'recall_1000': 0.5268}\n"
     ]
    }
   ],
   "source": [
    "running.experiment(topics_all, qrels_all)"
   ]
  }
 ],
 "metadata": {
  "kernelspec": {
   "display_name": "Python 3",
   "language": "python",
   "name": "python3"
  },
  "language_info": {
   "codemirror_mode": {
    "name": "ipython",
    "version": 3
   },
   "file_extension": ".py",
   "mimetype": "text/x-python",
   "name": "python",
   "nbconvert_exporter": "python",
   "pygments_lexer": "ipython3",
   "version": "3.5.2"
  }
 },
 "nbformat": 4,
 "nbformat_minor": 2
}
