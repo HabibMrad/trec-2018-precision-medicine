{
 "cells": [
  {
   "cell_type": "markdown",
   "metadata": {},
   "source": [
    "# TREC 2018 Precision Medicine"
   ]
  },
  {
   "cell_type": "code",
   "execution_count": 1,
   "metadata": {},
   "outputs": [],
   "source": [
    "import json\n",
    "from json2html import *\n",
    "from IPython.display import HTML\n",
    "import pandas\n",
    "\n",
    "import os, sys\n",
    "nb_dir = os.path.split(os.getcwd())[0]\n",
    "if nb_dir not in sys.path:\n",
    "    sys.path.append(nb_dir)\n",
    "from trec_utils import utils, running, evaluation"
   ]
  },
  {
   "cell_type": "raw",
   "metadata": {},
   "source": [
    "Load and show configuration"
   ]
  },
  {
   "cell_type": "code",
   "execution_count": 2,
   "metadata": {},
   "outputs": [],
   "source": [
    "config = utils.load_config()"
   ]
  },
  {
   "cell_type": "markdown",
   "metadata": {},
   "source": [
    "## Load and split TOPICS and GOLD STANDARD from last year (30 topics)\n",
    "Also, split them into training, test, and development set."
   ]
  },
  {
   "cell_type": "code",
   "execution_count": 3,
   "metadata": {},
   "outputs": [],
   "source": [
    "topics_all = utils.get_topics('./topics/topics2017.xml')\n",
    "qrels_all = utils.get_qrels('./gold-standard/abstracts.2017.qrels')\n",
    "#topics_all"
   ]
  },
  {
   "cell_type": "code",
   "execution_count": 4,
   "metadata": {},
   "outputs": [],
   "source": [
    "topics_train, topics_test, topics_dev = utils.split_topics(topics_all)\n",
    "qrels_train, qrels_test, qrels_dev = utils.split_qrels(qrels_all, topics_train, topics_test, topics_dev)"
   ]
  },
  {
   "cell_type": "code",
   "execution_count": 5,
   "metadata": {},
   "outputs": [],
   "source": [
    "assert(set([topic for topic in topics_train['topic']])==set([topic for topic in qrels_train['topic']]))\n",
    "assert(set([topic for topic in topics_test['topic']])==set([topic for topic in qrels_test['topic']]))\n",
    "assert(set([topic for topic in topics_dev['topic']])==set([topic for topic in qrels_dev['topic']]))"
   ]
  },
  {
   "cell_type": "markdown",
   "metadata": {},
   "source": [
    "## Experiment and do grid search"
   ]
  },
  {
   "cell_type": "code",
   "execution_count": null,
   "metadata": {},
   "outputs": [
    {
     "name": "stdout",
     "output_type": "stream",
     "text": [
      "PARAMS GRID: {'disease_tie_breaker': [1], 'query_template': ['variable.json'], 'gene_tie_breaker': [1], 'gene_boost': [1, 2], 'disease_boost': [1]}\n",
      "RUN: variable.json-1-1-1-1 TOPICS: 30 {'disease_tie_breaker': '1', 'run_id': 'variable.json-1-1-1-1', 'gene_tie_breaker': '1', 'disease_boost': '1', 'query_template': 'variable.json', 'gene_boost': '1'}\n",
      "(0.5057, 0.45, 0.2674, '1', '1', '1', '1')\n",
      "RUN: variable.json-1-1-1-2 TOPICS: 30 {'disease_tie_breaker': '1', 'run_id': 'variable.json-1-1-1-2', 'gene_tie_breaker': '1', 'disease_boost': '1', 'query_template': 'variable.json', 'gene_boost': '2'}\n"
     ]
    }
   ],
   "source": [
    "results = running.experiment(topics_all, qrels_all)"
   ]
  },
  {
   "cell_type": "code",
   "execution_count": null,
   "metadata": {},
   "outputs": [],
   "source": [
    "results"
   ]
  },
  {
   "cell_type": "markdown",
   "metadata": {},
   "source": [
    "### Example runs"
   ]
  },
  {
   "cell_type": "code",
   "execution_count": 6,
   "metadata": {},
   "outputs": [
    {
     "name": "stdout",
     "output_type": "stream",
     "text": [
      "RUN: DEFAULT_RUN TOPICS: 30 {'run_id': 'DEFAULT_RUN', 'gene_tie_breaker': 0.5, 'gene_boost': 1, 'query_template': 'baseline.json', 'disease_tie_breaker': 0.5, 'disease_boost': 1.5}\n"
     ]
    },
    {
     "data": {
      "text/plain": [
       "{'P_10': 0.48, 'Rprec': 0.2847, 'ndcg': 0.5338, 'recall_1000': 0.6139}"
      ]
     },
     "execution_count": 6,
     "metadata": {},
     "output_type": "execute_result"
    }
   ],
   "source": [
    "full_run_params = running.get_default_run_params()\n",
    "full_run_params['query_template'] = 'baseline.json'\n",
    "full_run_df, full_run_params = running.run(topics_all)\n",
    "results, aggregated = evaluation.evaluate(qrels_all, full_run_df)\n",
    "aggregated\n",
    "#assert(aggregated['ndcg'] == 0.5338)\n",
    "#{'P_10': 0.48, 'Rprec': 0.2847, 'ndcg': 0.5338, 'recall_1000': 0.6139}"
   ]
  },
  {
   "cell_type": "code",
   "execution_count": 7,
   "metadata": {},
   "outputs": [
    {
     "name": "stdout",
     "output_type": "stream",
     "text": [
      "RUN: DEFAULT_RUN TOPICS: 30 {'run_id': 'DEFAULT_RUN', 'gene_tie_breaker': 0.5, 'gene_boost': 1, 'query_template': 'baseline_sex_age.json', 'disease_tie_breaker': 0.5, 'disease_boost': 1.5}\n"
     ]
    },
    {
     "data": {
      "text/plain": [
       "{'P_10': 0.52, 'Rprec': 0.2787, 'ndcg': 0.5417, 'recall_1000': 0.6173}"
      ]
     },
     "execution_count": 7,
     "metadata": {},
     "output_type": "execute_result"
    }
   ],
   "source": [
    "run_params = running.get_default_run_params()\n",
    "run_params['query_template'] = 'baseline_sex_age.json'\n",
    "full_run_df, run_params = running.run(topics_all)\n",
    "results, aggregated = evaluation.evaluate(qrels_all, full_run_df)\n",
    "aggregated\n",
    "# Only MeSH, best fields: {'P_10': 0.5167, 'Rprec': 0.2785, 'ndcg': 0.5383, 'recall_1000': 0.6148}\n",
    "# Only MeSH, cross fields: {'P_10': 0.5067, 'Rprec': 0.2811, 'ndcg': 0.5413, 'recall_1000': 0.6159}\n",
    "# Only MeSH, cross, best: {'P_10': 0.52, 'Rprec': 0.2814, 'ndcg': 0.5378, 'recall_1000': 0.6151}\n",
    "# Only MeSH, best, cross: {'P_10': 0.52, 'Rprec': 0.2787, 'ndcg': 0.5417, 'recall_1000': 0.6173} ***** best ndcg, best P_10"
   ]
  },
  {
   "cell_type": "code",
   "execution_count": 8,
   "metadata": {},
   "outputs": [
    {
     "name": "stdout",
     "output_type": "stream",
     "text": [
      "RUN: DEFAULT_RUN TOPICS: 30 {'run_id': 'DEFAULT_RUN', 'gene_tie_breaker': 0.5, 'gene_boost': 1, 'query_template': 'baseline_sex_age_all_fields.json', 'disease_tie_breaker': 0.5, 'disease_boost': 1.5}\n"
     ]
    },
    {
     "data": {
      "text/plain": [
       "{'P_10': 0.52, 'Rprec': 0.278, 'ndcg': 0.5416, 'recall_1000': 0.6174}"
      ]
     },
     "execution_count": 8,
     "metadata": {},
     "output_type": "execute_result"
    }
   ],
   "source": [
    "run_params = running.get_default_run_params()\n",
    "run_params['query_template'] = 'baseline_sex_age_all_fields.json'\n",
    "full_run_df, run_params = running.run(topics_all)\n",
    "results, aggregated = evaluation.evaluate(qrels_all, full_run_df)\n",
    "aggregated\n",
    "# All fields, best fields: {'P_10': 0.51, 'Rprec': 0.2744, 'ndcg': 0.5396, 'recall_1000': 0.6143}\n",
    "# All fields, cross fields: {'P_10': 0.5067, 'Rprec': 0.281, 'ndcg': 0.5412, 'recall_1000': 0.6157}\n",
    "# All fields, best fields disease, gene, cross fields rest: {'P_10': 0.5167, 'Rprec': 0.276, 'ndcg': 0.5378, 'recall_1000': 0.6139}\n",
    "# All fields, best fields disease, cross fields rest: {'P_10': 0.52, 'Rprec': 0.278, 'ndcg': 0.5416, 'recall_1000': 0.6174} ***** best ndcg, best P_10"
   ]
  },
  {
   "cell_type": "code",
   "execution_count": 6,
   "metadata": {},
   "outputs": [],
   "source": [
    "#full_run_df"
   ]
  },
  {
   "cell_type": "markdown",
   "metadata": {},
   "source": [
    "Test run with default_params"
   ]
  },
  {
   "cell_type": "code",
   "execution_count": 6,
   "metadata": {},
   "outputs": [
    {
     "name": "stdout",
     "output_type": "stream",
     "text": [
      "RUN: DEFAULT_RUN TOPICS: 12 {'run_id': 'DEFAULT_RUN', 'disease_tie_breaker': 0.5, 'gene_boost': 1, 'gene_tie_breaker': 0.5, 'query_template': 'baseline.json', 'disease_boost': 1.5}\n"
     ]
    }
   ],
   "source": [
    "training_run_df, training_run_params = running.run(topics_train)"
   ]
  },
  {
   "cell_type": "code",
   "execution_count": 7,
   "metadata": {},
   "outputs": [],
   "source": [
    "training_results, training_aggregated = evaluation.evaluate(qrels_train, training_run_df)\n",
    "training_score = pandas.Series(training_aggregated, name='training ' + '(' + str(len(topics_train)) + ' topics)')"
   ]
  },
  {
   "cell_type": "code",
   "execution_count": 8,
   "metadata": {},
   "outputs": [
    {
     "name": "stdout",
     "output_type": "stream",
     "text": [
      "RUN: DEFAULT_RUN TOPICS: 9 {'run_id': 'DEFAULT_RUN', 'disease_tie_breaker': 0.5, 'gene_boost': 1, 'gene_tie_breaker': 0.5, 'query_template': 'baseline.json', 'disease_boost': 1.5}\n"
     ]
    }
   ],
   "source": [
    "test_run_df, test_run_params = running.run(topics_test, training_run_params)"
   ]
  },
  {
   "cell_type": "code",
   "execution_count": 9,
   "metadata": {},
   "outputs": [
    {
     "data": {
      "text/plain": [
       "P_10           0.4333\n",
       "Rprec          0.2810\n",
       "ndcg           0.5383\n",
       "recall_1000    0.6650\n",
       "Name: training (12 topics), dtype: float64"
      ]
     },
     "execution_count": 9,
     "metadata": {},
     "output_type": "execute_result"
    }
   ],
   "source": [
    "training_score"
   ]
  },
  {
   "cell_type": "code",
   "execution_count": 10,
   "metadata": {},
   "outputs": [],
   "source": [
    "test_results, test_aggregated = evaluation.evaluate(qrels_test, test_run_df)\n",
    "test_score = pandas.Series(test_aggregated, name='test ' + '(' + str(len(topics_test)) + ' topics)')"
   ]
  },
  {
   "cell_type": "code",
   "execution_count": 11,
   "metadata": {},
   "outputs": [
    {
     "data": {
      "text/html": [
       "<div>\n",
       "<style scoped>\n",
       "    .dataframe tbody tr th:only-of-type {\n",
       "        vertical-align: middle;\n",
       "    }\n",
       "\n",
       "    .dataframe tbody tr th {\n",
       "        vertical-align: top;\n",
       "    }\n",
       "\n",
       "    .dataframe thead th {\n",
       "        text-align: right;\n",
       "    }\n",
       "</style>\n",
       "<table border=\"1\" class=\"dataframe\">\n",
       "  <thead>\n",
       "    <tr style=\"text-align: right;\">\n",
       "      <th></th>\n",
       "      <th>P_10</th>\n",
       "      <th>Rprec</th>\n",
       "      <th>ndcg</th>\n",
       "      <th>recall_1000</th>\n",
       "    </tr>\n",
       "  </thead>\n",
       "  <tbody>\n",
       "    <tr>\n",
       "      <th>training (12 topics)</th>\n",
       "      <td>0.4333</td>\n",
       "      <td>0.2810</td>\n",
       "      <td>0.5383</td>\n",
       "      <td>0.6650</td>\n",
       "    </tr>\n",
       "    <tr>\n",
       "      <th>test (9 topics)</th>\n",
       "      <td>0.3556</td>\n",
       "      <td>0.2194</td>\n",
       "      <td>0.4820</td>\n",
       "      <td>0.5423</td>\n",
       "    </tr>\n",
       "  </tbody>\n",
       "</table>\n",
       "</div>"
      ],
      "text/plain": [
       "                        P_10   Rprec    ndcg  recall_1000\n",
       "training (12 topics)  0.4333  0.2810  0.5383       0.6650\n",
       "test (9 topics)       0.3556  0.2194  0.4820       0.5423"
      ]
     },
     "execution_count": 11,
     "metadata": {},
     "output_type": "execute_result"
    }
   ],
   "source": [
    "pandas.DataFrame([training_score, test_score])"
   ]
  }
 ],
 "metadata": {
  "kernelspec": {
   "display_name": "Python 3",
   "language": "python",
   "name": "python3"
  },
  "language_info": {
   "codemirror_mode": {
    "name": "ipython",
    "version": 3
   },
   "file_extension": ".py",
   "mimetype": "text/x-python",
   "name": "python",
   "nbconvert_exporter": "python",
   "pygments_lexer": "ipython3",
   "version": "3.5.2"
  }
 },
 "nbformat": 4,
 "nbformat_minor": 2
}
