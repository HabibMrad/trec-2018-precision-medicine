{
 "cells": [
  {
   "cell_type": "markdown",
   "metadata": {},
   "source": [
    "# TREC 2018 Precision Medicine"
   ]
  },
  {
   "cell_type": "code",
   "execution_count": 1,
   "metadata": {},
   "outputs": [],
   "source": [
    "import json\n",
    "from json2html import *\n",
    "from IPython.display import HTML\n",
    "import pandas\n",
    "\n",
    "import os, sys\n",
    "nb_dir = os.path.split(os.getcwd())[0]\n",
    "if nb_dir not in sys.path:\n",
    "    sys.path.append(nb_dir)\n",
    "from trec_utils import utils, running, evaluation"
   ]
  },
  {
   "cell_type": "raw",
   "metadata": {},
   "source": [
    "Load and show configuration"
   ]
  },
  {
   "cell_type": "code",
   "execution_count": 2,
   "metadata": {},
   "outputs": [],
   "source": [
    "config = utils.load_config()"
   ]
  },
  {
   "cell_type": "code",
   "execution_count": 3,
   "metadata": {},
   "outputs": [],
   "source": [
    "topics_all = utils.get_topics('./topics/topics2017.xml')\n",
    "qrels_all = utils.get_qrels('./gold-standard/abstracts.2017.qrels')\n",
    "#topics_all"
   ]
  },
  {
   "cell_type": "markdown",
   "metadata": {},
   "source": [
    "## Best Runs"
   ]
  },
  {
   "cell_type": "code",
   "execution_count": 4,
   "metadata": {},
   "outputs": [
    {
     "name": "stdout",
     "output_type": "stream",
     "text": [
      "RUN: DEFAULT_RUN TOPICS: 30\n"
     ]
    },
    {
     "data": {
      "text/plain": [
       "{'P_10': 0.52, 'Rprec': 0.2817, 'ndcg': 0.544, 'recall_1000': 0.6187}"
      ]
     },
     "execution_count": 4,
     "metadata": {},
     "output_type": "execute_result"
    }
   ],
   "source": [
    "run_params = {\n",
    "    'run_id':'DEFAULT_RUN',\n",
    "    'query_template':'variable/baseline_sex_age.json',\n",
    "    'disease_tie_breaker':0.4,\n",
    "    'disease_multi_match_type':'best_fields',\n",
    "    'disease_boost':1.5,\n",
    "    'gene_tie_breaker':0.4,\n",
    "    'gene_multi_match_type':'cross_fields',\n",
    "    'gene_boost':1\n",
    "}\n",
    "\n",
    "run, params = running.run(topics_all, 'ABSTRACTS', run_params)\n",
    "results, aggregated = evaluation.evaluate(qrels_all, run)\n",
    "\n",
    "aggregated"
   ]
  },
  {
   "cell_type": "markdown",
   "metadata": {},
   "source": [
    "## Experiment and do grid search"
   ]
  },
  {
   "cell_type": "code",
   "execution_count": 5,
   "metadata": {},
   "outputs": [
    {
     "name": "stdout",
     "output_type": "stream",
     "text": [
      "EXPERIMENT BEGIN: 2018-08-01 15:10:44.025581\n",
      "RUNS: 2\n",
      "1\n",
      "RUN: variable/baseline_sex_age.json-0.4-best_fields-1.5-0.4-cross_fields-1 TOPICS: 30\n",
      "('variable/baseline_sex_age.json', 0.544, 0.52, 0.2817, '0.4', 'best_fields', '1.5', '0.4', 'cross_fields', '1')\n",
      "2\n",
      "RUN: variable/baseline_sex_age.json-0.4-best_fields-1.5-0.5-cross_fields-1 TOPICS: 30\n",
      "('variable/baseline_sex_age.json', 0.5435, 0.52, 0.2813, '0.4', 'best_fields', '1.5', '0.5', 'cross_fields', '1')\n",
      "EXPERIMENT END: 2018-08-01 15:11:16.552100\n"
     ]
    },
    {
     "data": {
      "text/html": [
       "<div>\n",
       "<style scoped>\n",
       "    .dataframe tbody tr th:only-of-type {\n",
       "        vertical-align: middle;\n",
       "    }\n",
       "\n",
       "    .dataframe tbody tr th {\n",
       "        vertical-align: top;\n",
       "    }\n",
       "\n",
       "    .dataframe thead th {\n",
       "        text-align: right;\n",
       "    }\n",
       "</style>\n",
       "<table border=\"1\" class=\"dataframe\">\n",
       "  <thead>\n",
       "    <tr style=\"text-align: right;\">\n",
       "      <th></th>\n",
       "      <th>template</th>\n",
       "      <th>ndcg</th>\n",
       "      <th>P_10</th>\n",
       "      <th>Rprec</th>\n",
       "      <th>dis_tb</th>\n",
       "      <th>dis_mm_type</th>\n",
       "      <th>dis_b</th>\n",
       "      <th>gene_tb</th>\n",
       "      <th>gene_mm_type</th>\n",
       "      <th>gene_b</th>\n",
       "    </tr>\n",
       "  </thead>\n",
       "  <tbody>\n",
       "    <tr>\n",
       "      <th>0</th>\n",
       "      <td>variable/baseline_sex_age.json</td>\n",
       "      <td>0.5440</td>\n",
       "      <td>0.52</td>\n",
       "      <td>0.2817</td>\n",
       "      <td>0.4</td>\n",
       "      <td>best_fields</td>\n",
       "      <td>1.5</td>\n",
       "      <td>0.4</td>\n",
       "      <td>cross_fields</td>\n",
       "      <td>1</td>\n",
       "    </tr>\n",
       "    <tr>\n",
       "      <th>1</th>\n",
       "      <td>variable/baseline_sex_age.json</td>\n",
       "      <td>0.5435</td>\n",
       "      <td>0.52</td>\n",
       "      <td>0.2813</td>\n",
       "      <td>0.4</td>\n",
       "      <td>best_fields</td>\n",
       "      <td>1.5</td>\n",
       "      <td>0.5</td>\n",
       "      <td>cross_fields</td>\n",
       "      <td>1</td>\n",
       "    </tr>\n",
       "  </tbody>\n",
       "</table>\n",
       "</div>"
      ],
      "text/plain": [
       "                         template    ndcg  P_10   Rprec dis_tb  dis_mm_type  \\\n",
       "0  variable/baseline_sex_age.json  0.5440  0.52  0.2817    0.4  best_fields   \n",
       "1  variable/baseline_sex_age.json  0.5435  0.52  0.2813    0.4  best_fields   \n",
       "\n",
       "  dis_b gene_tb  gene_mm_type gene_b  \n",
       "0   1.5     0.4  cross_fields      1  \n",
       "1   1.5     0.5  cross_fields      1  "
      ]
     },
     "execution_count": 5,
     "metadata": {},
     "output_type": "execute_result"
    }
   ],
   "source": [
    "experiment_params_grid = {\n",
    "    'query_template':['variable/baseline_sex_age.json'],\n",
    "    'disease_tie_breaker':[0.4],\n",
    "    'disease_multi_match_type':['best_fields'],\n",
    "    'disease_boost':[1.5],\n",
    "    'gene_tie_breaker':[0.4, 0.5],\n",
    "    'gene_multi_match_type':['cross_fields'],\n",
    "    'gene_boost':[1]\n",
    "}\n",
    "\n",
    "results = running.experiment(topics_all, qrels_all, 'ABSTRACTS', experiment_params_grid)\n",
    "results"
   ]
  },
  {
   "cell_type": "markdown",
   "metadata": {},
   "source": [
    "## Load and split TOPICS and GOLD STANDARD from last year (30 topics)\n",
    "Also, split them into training, test, and development set."
   ]
  },
  {
   "cell_type": "code",
   "execution_count": 6,
   "metadata": {},
   "outputs": [],
   "source": [
    "topics_train, topics_test, topics_dev = utils.split_topics(topics_all)\n",
    "qrels_train, qrels_test, qrels_dev = utils.split_qrels(qrels_all, topics_train, topics_test, topics_dev)"
   ]
  },
  {
   "cell_type": "code",
   "execution_count": 7,
   "metadata": {},
   "outputs": [],
   "source": [
    "assert(set([topic for topic in topics_train['topic']])==set([topic for topic in qrels_train['topic']]))\n",
    "assert(set([topic for topic in topics_test['topic']])==set([topic for topic in qrels_test['topic']]))\n",
    "assert(set([topic for topic in topics_dev['topic']])==set([topic for topic in qrels_dev['topic']]))"
   ]
  },
  {
   "cell_type": "markdown",
   "metadata": {},
   "source": [
    "## FIXME: Test run with default_params"
   ]
  },
  {
   "cell_type": "code",
   "execution_count": 8,
   "metadata": {},
   "outputs": [
    {
     "name": "stdout",
     "output_type": "stream",
     "text": [
      "RUN: mugctbase1 TOPICS: 12\n"
     ]
    }
   ],
   "source": [
    "run_params = {\n",
    "    'run_id':'mugctbase1',\n",
    "    'query_template':'submitted/baseline_sex_age.json',\n",
    "}\n",
    "\n",
    "training_run_df, training_run_params = running.run(topics_train, 'ABSTRACTS', run_params)"
   ]
  },
  {
   "cell_type": "code",
   "execution_count": 9,
   "metadata": {},
   "outputs": [],
   "source": [
    "training_results, training_aggregated = evaluation.evaluate(qrels_train, training_run_df)\n",
    "training_score = pandas.Series(training_aggregated, name='training ' + '(' + str(len(topics_train)) + ' topics)')"
   ]
  },
  {
   "cell_type": "code",
   "execution_count": 10,
   "metadata": {},
   "outputs": [
    {
     "name": "stdout",
     "output_type": "stream",
     "text": [
      "RUN: mugctbase1 TOPICS: 9\n"
     ]
    }
   ],
   "source": [
    "test_run_df, test_run_params = running.run(topics_test, 'ABSTRACTS', training_run_params)"
   ]
  },
  {
   "cell_type": "code",
   "execution_count": 11,
   "metadata": {},
   "outputs": [
    {
     "data": {
      "text/plain": [
       "P_10           0.4417\n",
       "Rprec          0.2416\n",
       "ndcg           0.5008\n",
       "recall_1000    0.5857\n",
       "Name: training (12 topics), dtype: float64"
      ]
     },
     "execution_count": 11,
     "metadata": {},
     "output_type": "execute_result"
    }
   ],
   "source": [
    "training_score"
   ]
  },
  {
   "cell_type": "code",
   "execution_count": 12,
   "metadata": {},
   "outputs": [],
   "source": [
    "test_results, test_aggregated = evaluation.evaluate(qrels_test, test_run_df)\n",
    "test_score = pandas.Series(test_aggregated, name='test ' + '(' + str(len(topics_test)) + ' topics)')"
   ]
  },
  {
   "cell_type": "code",
   "execution_count": 13,
   "metadata": {},
   "outputs": [
    {
     "data": {
      "text/html": [
       "<div>\n",
       "<style scoped>\n",
       "    .dataframe tbody tr th:only-of-type {\n",
       "        vertical-align: middle;\n",
       "    }\n",
       "\n",
       "    .dataframe tbody tr th {\n",
       "        vertical-align: top;\n",
       "    }\n",
       "\n",
       "    .dataframe thead th {\n",
       "        text-align: right;\n",
       "    }\n",
       "</style>\n",
       "<table border=\"1\" class=\"dataframe\">\n",
       "  <thead>\n",
       "    <tr style=\"text-align: right;\">\n",
       "      <th></th>\n",
       "      <th>P_10</th>\n",
       "      <th>Rprec</th>\n",
       "      <th>ndcg</th>\n",
       "      <th>recall_1000</th>\n",
       "    </tr>\n",
       "  </thead>\n",
       "  <tbody>\n",
       "    <tr>\n",
       "      <th>training (12 topics)</th>\n",
       "      <td>0.4417</td>\n",
       "      <td>0.2416</td>\n",
       "      <td>0.5008</td>\n",
       "      <td>0.5857</td>\n",
       "    </tr>\n",
       "    <tr>\n",
       "      <th>test (9 topics)</th>\n",
       "      <td>0.5556</td>\n",
       "      <td>0.3077</td>\n",
       "      <td>0.5622</td>\n",
       "      <td>0.5921</td>\n",
       "    </tr>\n",
       "  </tbody>\n",
       "</table>\n",
       "</div>"
      ],
      "text/plain": [
       "                        P_10   Rprec    ndcg  recall_1000\n",
       "training (12 topics)  0.4417  0.2416  0.5008       0.5857\n",
       "test (9 topics)       0.5556  0.3077  0.5622       0.5921"
      ]
     },
     "execution_count": 13,
     "metadata": {},
     "output_type": "execute_result"
    }
   ],
   "source": [
    "pandas.DataFrame([training_score, test_score])"
   ]
  },
  {
   "cell_type": "code",
   "execution_count": null,
   "metadata": {},
   "outputs": [],
   "source": []
  }
 ],
 "metadata": {
  "kernelspec": {
   "display_name": "Python 3",
   "language": "python",
   "name": "python3"
  },
  "language_info": {
   "codemirror_mode": {
    "name": "ipython",
    "version": 3
   },
   "file_extension": ".py",
   "mimetype": "text/x-python",
   "name": "python",
   "nbconvert_exporter": "python",
   "pygments_lexer": "ipython3",
   "version": "3.5.2"
  }
 },
 "nbformat": 4,
 "nbformat_minor": 2
}
